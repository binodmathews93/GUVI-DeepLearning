{
  "nbformat": 4,
  "nbformat_minor": 0,
  "metadata": {
    "colab": {
      "name": "LargeCNNs.ipynb",
      "provenance": [],
      "collapsed_sections": [
        "DVR1FiuJ-BzX"
      ],
      "include_colab_link": true
    },
    "kernelspec": {
      "name": "python3",
      "display_name": "Python 3"
    },
    "accelerator": "GPU",
    "widgets": {
      "application/vnd.jupyter.widget-state+json": {
        "e7150038d11944a591a1f963cda3ee69": {
          "model_module": "@jupyter-widgets/controls",
          "model_name": "HBoxModel",
          "state": {
            "_view_name": "HBoxView",
            "_dom_classes": [],
            "_model_name": "HBoxModel",
            "_view_module": "@jupyter-widgets/controls",
            "_model_module_version": "1.5.0",
            "_view_count": null,
            "_view_module_version": "1.5.0",
            "box_style": "",
            "layout": "IPY_MODEL_2038347d39084e95838cf4159c67dca1",
            "_model_module": "@jupyter-widgets/controls",
            "children": [
              "IPY_MODEL_be246a40338e477dad3d416d4964ecb0",
              "IPY_MODEL_c64f3c1493ee41e199e2c8c286db4e97"
            ]
          }
        },
        "2038347d39084e95838cf4159c67dca1": {
          "model_module": "@jupyter-widgets/base",
          "model_name": "LayoutModel",
          "state": {
            "_view_name": "LayoutView",
            "grid_template_rows": null,
            "right": null,
            "justify_content": null,
            "_view_module": "@jupyter-widgets/base",
            "overflow": null,
            "_model_module_version": "1.2.0",
            "_view_count": null,
            "flex_flow": null,
            "width": null,
            "min_width": null,
            "border": null,
            "align_items": null,
            "bottom": null,
            "_model_module": "@jupyter-widgets/base",
            "top": null,
            "grid_column": null,
            "overflow_y": null,
            "overflow_x": null,
            "grid_auto_flow": null,
            "grid_area": null,
            "grid_template_columns": null,
            "flex": null,
            "_model_name": "LayoutModel",
            "justify_items": null,
            "grid_row": null,
            "max_height": null,
            "align_content": null,
            "visibility": null,
            "align_self": null,
            "height": null,
            "min_height": null,
            "padding": null,
            "grid_auto_rows": null,
            "grid_gap": null,
            "max_width": null,
            "order": null,
            "_view_module_version": "1.2.0",
            "grid_template_areas": null,
            "object_position": null,
            "object_fit": null,
            "grid_auto_columns": null,
            "margin": null,
            "display": null,
            "left": null
          }
        },
        "be246a40338e477dad3d416d4964ecb0": {
          "model_module": "@jupyter-widgets/controls",
          "model_name": "FloatProgressModel",
          "state": {
            "_view_name": "ProgressView",
            "style": "IPY_MODEL_6db81efb82374bcdb42c278cf8802b44",
            "_dom_classes": [],
            "description": "",
            "_model_name": "FloatProgressModel",
            "bar_style": "success",
            "max": 170498071,
            "_view_module": "@jupyter-widgets/controls",
            "_model_module_version": "1.5.0",
            "value": 170498071,
            "_view_count": null,
            "_view_module_version": "1.5.0",
            "orientation": "horizontal",
            "min": 0,
            "description_tooltip": null,
            "_model_module": "@jupyter-widgets/controls",
            "layout": "IPY_MODEL_93fa6cfe29914f30a03254b6b090f01d"
          }
        },
        "c64f3c1493ee41e199e2c8c286db4e97": {
          "model_module": "@jupyter-widgets/controls",
          "model_name": "HTMLModel",
          "state": {
            "_view_name": "HTMLView",
            "style": "IPY_MODEL_18f99184f5714643b6cfc182150ab5ad",
            "_dom_classes": [],
            "description": "",
            "_model_name": "HTMLModel",
            "placeholder": "​",
            "_view_module": "@jupyter-widgets/controls",
            "_model_module_version": "1.5.0",
            "value": " 170499072/? [00:06&lt;00:00, 28381617.23it/s]",
            "_view_count": null,
            "_view_module_version": "1.5.0",
            "description_tooltip": null,
            "_model_module": "@jupyter-widgets/controls",
            "layout": "IPY_MODEL_05e55ab31a674815800f105c3051dc38"
          }
        },
        "6db81efb82374bcdb42c278cf8802b44": {
          "model_module": "@jupyter-widgets/controls",
          "model_name": "ProgressStyleModel",
          "state": {
            "_view_name": "StyleView",
            "_model_name": "ProgressStyleModel",
            "description_width": "initial",
            "_view_module": "@jupyter-widgets/base",
            "_model_module_version": "1.5.0",
            "_view_count": null,
            "_view_module_version": "1.2.0",
            "bar_color": null,
            "_model_module": "@jupyter-widgets/controls"
          }
        },
        "93fa6cfe29914f30a03254b6b090f01d": {
          "model_module": "@jupyter-widgets/base",
          "model_name": "LayoutModel",
          "state": {
            "_view_name": "LayoutView",
            "grid_template_rows": null,
            "right": null,
            "justify_content": null,
            "_view_module": "@jupyter-widgets/base",
            "overflow": null,
            "_model_module_version": "1.2.0",
            "_view_count": null,
            "flex_flow": null,
            "width": null,
            "min_width": null,
            "border": null,
            "align_items": null,
            "bottom": null,
            "_model_module": "@jupyter-widgets/base",
            "top": null,
            "grid_column": null,
            "overflow_y": null,
            "overflow_x": null,
            "grid_auto_flow": null,
            "grid_area": null,
            "grid_template_columns": null,
            "flex": null,
            "_model_name": "LayoutModel",
            "justify_items": null,
            "grid_row": null,
            "max_height": null,
            "align_content": null,
            "visibility": null,
            "align_self": null,
            "height": null,
            "min_height": null,
            "padding": null,
            "grid_auto_rows": null,
            "grid_gap": null,
            "max_width": null,
            "order": null,
            "_view_module_version": "1.2.0",
            "grid_template_areas": null,
            "object_position": null,
            "object_fit": null,
            "grid_auto_columns": null,
            "margin": null,
            "display": null,
            "left": null
          }
        },
        "18f99184f5714643b6cfc182150ab5ad": {
          "model_module": "@jupyter-widgets/controls",
          "model_name": "DescriptionStyleModel",
          "state": {
            "_view_name": "StyleView",
            "_model_name": "DescriptionStyleModel",
            "description_width": "",
            "_view_module": "@jupyter-widgets/base",
            "_model_module_version": "1.5.0",
            "_view_count": null,
            "_view_module_version": "1.2.0",
            "_model_module": "@jupyter-widgets/controls"
          }
        },
        "05e55ab31a674815800f105c3051dc38": {
          "model_module": "@jupyter-widgets/base",
          "model_name": "LayoutModel",
          "state": {
            "_view_name": "LayoutView",
            "grid_template_rows": null,
            "right": null,
            "justify_content": null,
            "_view_module": "@jupyter-widgets/base",
            "overflow": null,
            "_model_module_version": "1.2.0",
            "_view_count": null,
            "flex_flow": null,
            "width": null,
            "min_width": null,
            "border": null,
            "align_items": null,
            "bottom": null,
            "_model_module": "@jupyter-widgets/base",
            "top": null,
            "grid_column": null,
            "overflow_y": null,
            "overflow_x": null,
            "grid_auto_flow": null,
            "grid_area": null,
            "grid_template_columns": null,
            "flex": null,
            "_model_name": "LayoutModel",
            "justify_items": null,
            "grid_row": null,
            "max_height": null,
            "align_content": null,
            "visibility": null,
            "align_self": null,
            "height": null,
            "min_height": null,
            "padding": null,
            "grid_auto_rows": null,
            "grid_gap": null,
            "max_width": null,
            "order": null,
            "_view_module_version": "1.2.0",
            "grid_template_areas": null,
            "object_position": null,
            "object_fit": null,
            "grid_auto_columns": null,
            "margin": null,
            "display": null,
            "left": null
          }
        },
        "c5563c803e224de1964dfb872c3ca2d8": {
          "model_module": "@jupyter-widgets/controls",
          "model_name": "HBoxModel",
          "state": {
            "_view_name": "HBoxView",
            "_dom_classes": [],
            "_model_name": "HBoxModel",
            "_view_module": "@jupyter-widgets/controls",
            "_model_module_version": "1.5.0",
            "_view_count": null,
            "_view_module_version": "1.5.0",
            "box_style": "",
            "layout": "IPY_MODEL_73cf9a0987d44b6b84249fb352e14eba",
            "_model_module": "@jupyter-widgets/controls",
            "children": [
              "IPY_MODEL_5548f846f0a3440f82d6638c0a66290c",
              "IPY_MODEL_ea35599896724443a3a17128bb90d6da"
            ]
          }
        },
        "73cf9a0987d44b6b84249fb352e14eba": {
          "model_module": "@jupyter-widgets/base",
          "model_name": "LayoutModel",
          "state": {
            "_view_name": "LayoutView",
            "grid_template_rows": null,
            "right": null,
            "justify_content": null,
            "_view_module": "@jupyter-widgets/base",
            "overflow": null,
            "_model_module_version": "1.2.0",
            "_view_count": null,
            "flex_flow": null,
            "width": null,
            "min_width": null,
            "border": null,
            "align_items": null,
            "bottom": null,
            "_model_module": "@jupyter-widgets/base",
            "top": null,
            "grid_column": null,
            "overflow_y": null,
            "overflow_x": null,
            "grid_auto_flow": null,
            "grid_area": null,
            "grid_template_columns": null,
            "flex": null,
            "_model_name": "LayoutModel",
            "justify_items": null,
            "grid_row": null,
            "max_height": null,
            "align_content": null,
            "visibility": null,
            "align_self": null,
            "height": null,
            "min_height": null,
            "padding": null,
            "grid_auto_rows": null,
            "grid_gap": null,
            "max_width": null,
            "order": null,
            "_view_module_version": "1.2.0",
            "grid_template_areas": null,
            "object_position": null,
            "object_fit": null,
            "grid_auto_columns": null,
            "margin": null,
            "display": null,
            "left": null
          }
        },
        "5548f846f0a3440f82d6638c0a66290c": {
          "model_module": "@jupyter-widgets/controls",
          "model_name": "FloatProgressModel",
          "state": {
            "_view_name": "ProgressView",
            "style": "IPY_MODEL_b6358a2721354177af7aa335bb8e6649",
            "_dom_classes": [],
            "description": "100%",
            "_model_name": "FloatProgressModel",
            "bar_style": "success",
            "max": 553507836,
            "_view_module": "@jupyter-widgets/controls",
            "_model_module_version": "1.5.0",
            "value": 553507836,
            "_view_count": null,
            "_view_module_version": "1.5.0",
            "orientation": "horizontal",
            "min": 0,
            "description_tooltip": null,
            "_model_module": "@jupyter-widgets/controls",
            "layout": "IPY_MODEL_73ab963218f2425dafc6b8febfc6929a"
          }
        },
        "ea35599896724443a3a17128bb90d6da": {
          "model_module": "@jupyter-widgets/controls",
          "model_name": "HTMLModel",
          "state": {
            "_view_name": "HTMLView",
            "style": "IPY_MODEL_67a5874139ad4db2b98af8175c818711",
            "_dom_classes": [],
            "description": "",
            "_model_name": "HTMLModel",
            "placeholder": "​",
            "_view_module": "@jupyter-widgets/controls",
            "_model_module_version": "1.5.0",
            "value": " 528M/528M [15:02&lt;00:00, 613kB/s]",
            "_view_count": null,
            "_view_module_version": "1.5.0",
            "description_tooltip": null,
            "_model_module": "@jupyter-widgets/controls",
            "layout": "IPY_MODEL_9d16809c6bde4a298ecb145047b3cf8d"
          }
        },
        "b6358a2721354177af7aa335bb8e6649": {
          "model_module": "@jupyter-widgets/controls",
          "model_name": "ProgressStyleModel",
          "state": {
            "_view_name": "StyleView",
            "_model_name": "ProgressStyleModel",
            "description_width": "initial",
            "_view_module": "@jupyter-widgets/base",
            "_model_module_version": "1.5.0",
            "_view_count": null,
            "_view_module_version": "1.2.0",
            "bar_color": null,
            "_model_module": "@jupyter-widgets/controls"
          }
        },
        "73ab963218f2425dafc6b8febfc6929a": {
          "model_module": "@jupyter-widgets/base",
          "model_name": "LayoutModel",
          "state": {
            "_view_name": "LayoutView",
            "grid_template_rows": null,
            "right": null,
            "justify_content": null,
            "_view_module": "@jupyter-widgets/base",
            "overflow": null,
            "_model_module_version": "1.2.0",
            "_view_count": null,
            "flex_flow": null,
            "width": null,
            "min_width": null,
            "border": null,
            "align_items": null,
            "bottom": null,
            "_model_module": "@jupyter-widgets/base",
            "top": null,
            "grid_column": null,
            "overflow_y": null,
            "overflow_x": null,
            "grid_auto_flow": null,
            "grid_area": null,
            "grid_template_columns": null,
            "flex": null,
            "_model_name": "LayoutModel",
            "justify_items": null,
            "grid_row": null,
            "max_height": null,
            "align_content": null,
            "visibility": null,
            "align_self": null,
            "height": null,
            "min_height": null,
            "padding": null,
            "grid_auto_rows": null,
            "grid_gap": null,
            "max_width": null,
            "order": null,
            "_view_module_version": "1.2.0",
            "grid_template_areas": null,
            "object_position": null,
            "object_fit": null,
            "grid_auto_columns": null,
            "margin": null,
            "display": null,
            "left": null
          }
        },
        "67a5874139ad4db2b98af8175c818711": {
          "model_module": "@jupyter-widgets/controls",
          "model_name": "DescriptionStyleModel",
          "state": {
            "_view_name": "StyleView",
            "_model_name": "DescriptionStyleModel",
            "description_width": "",
            "_view_module": "@jupyter-widgets/base",
            "_model_module_version": "1.5.0",
            "_view_count": null,
            "_view_module_version": "1.2.0",
            "_model_module": "@jupyter-widgets/controls"
          }
        },
        "9d16809c6bde4a298ecb145047b3cf8d": {
          "model_module": "@jupyter-widgets/base",
          "model_name": "LayoutModel",
          "state": {
            "_view_name": "LayoutView",
            "grid_template_rows": null,
            "right": null,
            "justify_content": null,
            "_view_module": "@jupyter-widgets/base",
            "overflow": null,
            "_model_module_version": "1.2.0",
            "_view_count": null,
            "flex_flow": null,
            "width": null,
            "min_width": null,
            "border": null,
            "align_items": null,
            "bottom": null,
            "_model_module": "@jupyter-widgets/base",
            "top": null,
            "grid_column": null,
            "overflow_y": null,
            "overflow_x": null,
            "grid_auto_flow": null,
            "grid_area": null,
            "grid_template_columns": null,
            "flex": null,
            "_model_name": "LayoutModel",
            "justify_items": null,
            "grid_row": null,
            "max_height": null,
            "align_content": null,
            "visibility": null,
            "align_self": null,
            "height": null,
            "min_height": null,
            "padding": null,
            "grid_auto_rows": null,
            "grid_gap": null,
            "max_width": null,
            "order": null,
            "_view_module_version": "1.2.0",
            "grid_template_areas": null,
            "object_position": null,
            "object_fit": null,
            "grid_auto_columns": null,
            "margin": null,
            "display": null,
            "left": null
          }
        }
      }
    }
  },
  "cells": [
    {
      "cell_type": "markdown",
      "metadata": {
        "id": "view-in-github",
        "colab_type": "text"
      },
      "source": [
        "<a href=\"https://colab.research.google.com/github/binodmathews93/GUVI-DeepLearning/blob/main/LargeCNNs.ipynb\" target=\"_parent\"><img src=\"https://colab.research.google.com/assets/colab-badge.svg\" alt=\"Open In Colab\"/></a>"
      ]
    },
    {
      "cell_type": "code",
      "metadata": {
        "id": "rbZpqiiiylAg"
      },
      "source": [
        "import matplotlib.pyplot as plt\n",
        "import numpy as np\n",
        "\n",
        "import torch\n",
        "import torchvision\n",
        "import torchvision.transforms as transforms\n",
        "import torch.nn as nn\n",
        "import torch.optim as optim"
      ],
      "execution_count": 1,
      "outputs": []
    },
    {
      "cell_type": "code",
      "metadata": {
        "id": "1NBprN3Ry2NE",
        "colab": {
          "base_uri": "https://localhost:8080/"
        },
        "outputId": "e04ec42e-eb1f-4559-c29c-fe1fae170f7d"
      },
      "source": [
        "device = torch.device(\"cuda:0\" if torch.cuda.is_available() else \"cpu\")\n",
        "print(device)"
      ],
      "execution_count": 2,
      "outputs": [
        {
          "output_type": "stream",
          "text": [
            "cuda:0\n"
          ],
          "name": "stdout"
        }
      ]
    },
    {
      "cell_type": "markdown",
      "metadata": {
        "id": "hGzpz3oE1Ikz"
      },
      "source": [
        "## Dataset, transforms, and visualisation"
      ]
    },
    {
      "cell_type": "code",
      "metadata": {
        "id": "Y9c57fNA5Wsi"
      },
      "source": [
        "transform_train = transforms.Compose([\n",
        "    transforms.RandomResizedCrop(224), \n",
        "    transforms.ToTensor(),\n",
        "    transforms.Normalize((0.5, 0.5, 0.5), (0.5, 0.5, 0.5)),\n",
        "    ])\n",
        "\n",
        "transform_test = transforms.Compose([\n",
        "    transforms.RandomResizedCrop(224), \n",
        "    transforms.ToTensor(),\n",
        "    transforms.Normalize((0.5, 0.5, 0.5), (0.5, 0.5, 0.5)),\n",
        "    ])"
      ],
      "execution_count": 3,
      "outputs": []
    },
    {
      "cell_type": "code",
      "metadata": {
        "id": "fvsHorMPzISb",
        "colab": {
          "base_uri": "https://localhost:8080/",
          "height": 117,
          "referenced_widgets": [
            "e7150038d11944a591a1f963cda3ee69",
            "2038347d39084e95838cf4159c67dca1",
            "be246a40338e477dad3d416d4964ecb0",
            "c64f3c1493ee41e199e2c8c286db4e97",
            "6db81efb82374bcdb42c278cf8802b44",
            "93fa6cfe29914f30a03254b6b090f01d",
            "18f99184f5714643b6cfc182150ab5ad",
            "05e55ab31a674815800f105c3051dc38"
          ]
        },
        "outputId": "a4bfbb6b-00bc-4a1f-b957-66c49a9c08ce"
      },
      "source": [
        "trainset = torchvision.datasets.CIFAR10(root='./data', train=True, \n",
        "                                        download=True, \n",
        "                                        transform=transform_train)\n",
        "testset = torchvision.datasets.CIFAR10(root='./data', train=False, \n",
        "                                        download=True, \n",
        "                                        transform=transform_test)"
      ],
      "execution_count": 4,
      "outputs": [
        {
          "output_type": "stream",
          "text": [
            "Downloading https://www.cs.toronto.edu/~kriz/cifar-10-python.tar.gz to ./data/cifar-10-python.tar.gz\n"
          ],
          "name": "stdout"
        },
        {
          "output_type": "display_data",
          "data": {
            "application/vnd.jupyter.widget-view+json": {
              "model_id": "e7150038d11944a591a1f963cda3ee69",
              "version_minor": 0,
              "version_major": 2
            },
            "text/plain": [
              "HBox(children=(FloatProgress(value=0.0, max=170498071.0), HTML(value='')))"
            ]
          },
          "metadata": {
            "tags": []
          }
        },
        {
          "output_type": "stream",
          "text": [
            "\n",
            "Extracting ./data/cifar-10-python.tar.gz to ./data\n",
            "Files already downloaded and verified\n"
          ],
          "name": "stdout"
        }
      ]
    },
    {
      "cell_type": "code",
      "metadata": {
        "id": "V0dOpKtiAG4s"
      },
      "source": [
        "num_classes = 10"
      ],
      "execution_count": 5,
      "outputs": []
    },
    {
      "cell_type": "code",
      "metadata": {
        "id": "xTNj3LQY4eTS"
      },
      "source": [
        "batch_size = 4"
      ],
      "execution_count": 6,
      "outputs": []
    },
    {
      "cell_type": "code",
      "metadata": {
        "id": "KfLwRIXH08tg"
      },
      "source": [
        "trainloader = torch.utils.data.DataLoader(trainset, batch_size=batch_size, shuffle=True)"
      ],
      "execution_count": 7,
      "outputs": []
    },
    {
      "cell_type": "code",
      "metadata": {
        "id": "KEOz-75x1NGu",
        "colab": {
          "base_uri": "https://localhost:8080/"
        },
        "outputId": "4c5aa1b3-d542-4374-d97d-30164400c747"
      },
      "source": [
        "dataiter = iter(trainloader)\n",
        "images, labels = dataiter.next()\n",
        "\n",
        "print(images.shape)\n",
        "\n",
        "print(images[1].shape)\n",
        "print(labels[1].item())"
      ],
      "execution_count": 8,
      "outputs": [
        {
          "output_type": "stream",
          "text": [
            "torch.Size([4, 3, 224, 224])\n",
            "torch.Size([3, 224, 224])\n",
            "6\n"
          ],
          "name": "stdout"
        }
      ]
    },
    {
      "cell_type": "code",
      "metadata": {
        "id": "5oBeIwYC1N3c"
      },
      "source": [
        "def imshow(img, title):\n",
        "    npimg = img.numpy() / 2 + 0.5\n",
        "    plt.figure(figsize=(batch_size, 1))\n",
        "    plt.axis('off')\n",
        "    plt.imshow(np.transpose(npimg, (1, 2, 0)))\n",
        "    plt.title(title)\n",
        "    plt.show()"
      ],
      "execution_count": 9,
      "outputs": []
    },
    {
      "cell_type": "code",
      "metadata": {
        "id": "cfk-SYLY1Sbl"
      },
      "source": [
        "def show_batch_images(dataloader):\n",
        "    images, labels = next(iter(dataloader))\n",
        "    img = torchvision.utils.make_grid(images)\n",
        "    imshow(img, title=[str(x.item()) for x in labels])"
      ],
      "execution_count": 10,
      "outputs": []
    },
    {
      "cell_type": "code",
      "metadata": {
        "id": "l_Zi_s3p1htN",
        "colab": {
          "base_uri": "https://localhost:8080/",
          "height": 353
        },
        "outputId": "3ae1d4ce-f171-43ef-bd16-184dc3d0535f"
      },
      "source": [
        "for i in range(4):\n",
        "    show_batch_images(trainloader)"
      ],
      "execution_count": 11,
      "outputs": [
        {
          "output_type": "display_data",
          "data": {
            "image/png": "[encoded data removed]",
            "text/plain": [
              "<Figure size 288x72 with 1 Axes>"
            ]
          },
          "metadata": {
            "tags": [],
            "needs_background": "light"
          }
        },
        {
          "output_type": "display_data",
          "data": {
            "image/png": "[encoded data removed]",
            "text/plain": [
              "<Figure size 288x72 with 1 Axes>"
            ]
          },
          "metadata": {
            "tags": [],
            "needs_background": "light"
          }
        },
        {
          "output_type": "display_data",
          "data": {
            "image/png": "[encoded data removed]",
            "text/plain": [
              "<Figure size 288x72 with 1 Axes>"
            ]
          },
          "metadata": {
            "tags": [],
            "needs_background": "light"
          }
        },
        {
          "output_type": "display_data",
          "data": {
            "image/png": "[encoded data removed]",
            "text/plain": [
              "<Figure size 288x72 with 1 Axes>"
            ]
          },
          "metadata": {
            "tags": [],
            "needs_background": "light"
          }
        }
      ]
    },
    {
      "cell_type": "markdown",
      "metadata": {
        "id": "1E-pnTG97DDz"
      },
      "source": [
        "## Creating VGG-16"
      ]
    },
    {
      "cell_type": "markdown",
      "metadata": {
        "id": "_QMSp0gEJLow"
      },
      "source": [
        "https://pytorch.org/vision/stable/models.html#classification"
      ]
    },
    {
      "cell_type": "code",
      "metadata": {
        "id": "Ra33PbJS28P3"
      },
      "source": [
        "from torchvision import models"
      ],
      "execution_count": 12,
      "outputs": []
    },
    {
      "cell_type": "code",
      "metadata": {
        "id": "wvte5SSA7G7r"
      },
      "source": [
        "vgg = models.vgg16_bn()"
      ],
      "execution_count": 13,
      "outputs": []
    },
    {
      "cell_type": "code",
      "metadata": {
        "id": "7w-p73Tz9aZ_",
        "colab": {
          "base_uri": "https://localhost:8080/"
        },
        "outputId": "0328281a-239f-40d6-b170-6d3db35cc602"
      },
      "source": [
        "print(vgg)"
      ],
      "execution_count": 14,
      "outputs": [
        {
          "output_type": "stream",
          "text": [
            "VGG(\n",
            "  (features): Sequential(\n",
            "    (0): Conv2d(3, 64, kernel_size=(3, 3), stride=(1, 1), padding=(1, 1))\n",
            "    (1): BatchNorm2d(64, eps=1e-05, momentum=0.1, affine=True, track_running_stats=True)\n",
            "    (2): ReLU(inplace=True)\n",
            "    (3): Conv2d(64, 64, kernel_size=(3, 3), stride=(1, 1), padding=(1, 1))\n",
            "    (4): BatchNorm2d(64, eps=1e-05, momentum=0.1, affine=True, track_running_stats=True)\n",
            "    (5): ReLU(inplace=True)\n",
            "    (6): MaxPool2d(kernel_size=2, stride=2, padding=0, dilation=1, ceil_mode=False)\n",
            "    (7): Conv2d(64, 128, kernel_size=(3, 3), stride=(1, 1), padding=(1, 1))\n",
            "    (8): BatchNorm2d(128, eps=1e-05, momentum=0.1, affine=True, track_running_stats=True)\n",
            "    (9): ReLU(inplace=True)\n",
            "    (10): Conv2d(128, 128, kernel_size=(3, 3), stride=(1, 1), padding=(1, 1))\n",
            "    (11): BatchNorm2d(128, eps=1e-05, momentum=0.1, affine=True, track_running_stats=True)\n",
            "    (12): ReLU(inplace=True)\n",
            "    (13): MaxPool2d(kernel_size=2, stride=2, padding=0, dilation=1, ceil_mode=False)\n",
            "    (14): Conv2d(128, 256, kernel_size=(3, 3), stride=(1, 1), padding=(1, 1))\n",
            "    (15): BatchNorm2d(256, eps=1e-05, momentum=0.1, affine=True, track_running_stats=True)\n",
            "    (16): ReLU(inplace=True)\n",
            "    (17): Conv2d(256, 256, kernel_size=(3, 3), stride=(1, 1), padding=(1, 1))\n",
            "    (18): BatchNorm2d(256, eps=1e-05, momentum=0.1, affine=True, track_running_stats=True)\n",
            "    (19): ReLU(inplace=True)\n",
            "    (20): Conv2d(256, 256, kernel_size=(3, 3), stride=(1, 1), padding=(1, 1))\n",
            "    (21): BatchNorm2d(256, eps=1e-05, momentum=0.1, affine=True, track_running_stats=True)\n",
            "    (22): ReLU(inplace=True)\n",
            "    (23): MaxPool2d(kernel_size=2, stride=2, padding=0, dilation=1, ceil_mode=False)\n",
            "    (24): Conv2d(256, 512, kernel_size=(3, 3), stride=(1, 1), padding=(1, 1))\n",
            "    (25): BatchNorm2d(512, eps=1e-05, momentum=0.1, affine=True, track_running_stats=True)\n",
            "    (26): ReLU(inplace=True)\n",
            "    (27): Conv2d(512, 512, kernel_size=(3, 3), stride=(1, 1), padding=(1, 1))\n",
            "    (28): BatchNorm2d(512, eps=1e-05, momentum=0.1, affine=True, track_running_stats=True)\n",
            "    (29): ReLU(inplace=True)\n",
            "    (30): Conv2d(512, 512, kernel_size=(3, 3), stride=(1, 1), padding=(1, 1))\n",
            "    (31): BatchNorm2d(512, eps=1e-05, momentum=0.1, affine=True, track_running_stats=True)\n",
            "    (32): ReLU(inplace=True)\n",
            "    (33): MaxPool2d(kernel_size=2, stride=2, padding=0, dilation=1, ceil_mode=False)\n",
            "    (34): Conv2d(512, 512, kernel_size=(3, 3), stride=(1, 1), padding=(1, 1))\n",
            "    (35): BatchNorm2d(512, eps=1e-05, momentum=0.1, affine=True, track_running_stats=True)\n",
            "    (36): ReLU(inplace=True)\n",
            "    (37): Conv2d(512, 512, kernel_size=(3, 3), stride=(1, 1), padding=(1, 1))\n",
            "    (38): BatchNorm2d(512, eps=1e-05, momentum=0.1, affine=True, track_running_stats=True)\n",
            "    (39): ReLU(inplace=True)\n",
            "    (40): Conv2d(512, 512, kernel_size=(3, 3), stride=(1, 1), padding=(1, 1))\n",
            "    (41): BatchNorm2d(512, eps=1e-05, momentum=0.1, affine=True, track_running_stats=True)\n",
            "    (42): ReLU(inplace=True)\n",
            "    (43): MaxPool2d(kernel_size=2, stride=2, padding=0, dilation=1, ceil_mode=False)\n",
            "  )\n",
            "  (avgpool): AdaptiveAvgPool2d(output_size=(7, 7))\n",
            "  (classifier): Sequential(\n",
            "    (0): Linear(in_features=25088, out_features=4096, bias=True)\n",
            "    (1): ReLU(inplace=True)\n",
            "    (2): Dropout(p=0.5, inplace=False)\n",
            "    (3): Linear(in_features=4096, out_features=4096, bias=True)\n",
            "    (4): ReLU(inplace=True)\n",
            "    (5): Dropout(p=0.5, inplace=False)\n",
            "    (6): Linear(in_features=4096, out_features=1000, bias=True)\n",
            "  )\n",
            ")\n"
          ],
          "name": "stdout"
        }
      ]
    },
    {
      "cell_type": "code",
      "metadata": {
        "id": "N1bQdxQz-Dil",
        "colab": {
          "base_uri": "https://localhost:8080/"
        },
        "outputId": "332269c8-bc01-4689-d50d-30f441d143dd"
      },
      "source": [
        "print(vgg.features[0])"
      ],
      "execution_count": 15,
      "outputs": [
        {
          "output_type": "stream",
          "text": [
            "Conv2d(3, 64, kernel_size=(3, 3), stride=(1, 1), padding=(1, 1))\n"
          ],
          "name": "stdout"
        }
      ]
    },
    {
      "cell_type": "code",
      "metadata": {
        "id": "CX9PohSB-1Dx",
        "colab": {
          "base_uri": "https://localhost:8080/"
        },
        "outputId": "4527400b-806e-44e8-91a2-9c8bba258e44"
      },
      "source": [
        "print(vgg.classifier[6])"
      ],
      "execution_count": 16,
      "outputs": [
        {
          "output_type": "stream",
          "text": [
            "Linear(in_features=4096, out_features=1000, bias=True)\n"
          ],
          "name": "stdout"
        }
      ]
    },
    {
      "cell_type": "code",
      "metadata": {
        "id": "koDRbWi8_ApT",
        "colab": {
          "base_uri": "https://localhost:8080/"
        },
        "outputId": "57139243-af18-43ef-a1e2-f0190f144d94"
      },
      "source": [
        "final_in_features = vgg.classifier[6].in_features\n",
        "mod_classifier = list(vgg.classifier.children())[:-1]\n",
        "mod_classifier.extend([nn.Linear(final_in_features, num_classes)])\n",
        "print(mod_classifier)"
      ],
      "execution_count": 17,
      "outputs": [
        {
          "output_type": "stream",
          "text": [
            "[Linear(in_features=25088, out_features=4096, bias=True), ReLU(inplace=True), Dropout(p=0.5, inplace=False), Linear(in_features=4096, out_features=4096, bias=True), ReLU(inplace=True), Dropout(p=0.5, inplace=False), Linear(in_features=4096, out_features=10, bias=True)]\n"
          ],
          "name": "stdout"
        }
      ]
    },
    {
      "cell_type": "code",
      "metadata": {
        "id": "_vHjXi1j_glv",
        "colab": {
          "base_uri": "https://localhost:8080/"
        },
        "outputId": "d213a62b-8d10-4b0e-f1fa-490eeb896d5b"
      },
      "source": [
        "vgg.classifier = nn.Sequential(*mod_classifier)\n",
        "print(vgg)"
      ],
      "execution_count": 18,
      "outputs": [
        {
          "output_type": "stream",
          "text": [
            "VGG(\n",
            "  (features): Sequential(\n",
            "    (0): Conv2d(3, 64, kernel_size=(3, 3), stride=(1, 1), padding=(1, 1))\n",
            "    (1): BatchNorm2d(64, eps=1e-05, momentum=0.1, affine=True, track_running_stats=True)\n",
            "    (2): ReLU(inplace=True)\n",
            "    (3): Conv2d(64, 64, kernel_size=(3, 3), stride=(1, 1), padding=(1, 1))\n",
            "    (4): BatchNorm2d(64, eps=1e-05, momentum=0.1, affine=True, track_running_stats=True)\n",
            "    (5): ReLU(inplace=True)\n",
            "    (6): MaxPool2d(kernel_size=2, stride=2, padding=0, dilation=1, ceil_mode=False)\n",
            "    (7): Conv2d(64, 128, kernel_size=(3, 3), stride=(1, 1), padding=(1, 1))\n",
            "    (8): BatchNorm2d(128, eps=1e-05, momentum=0.1, affine=True, track_running_stats=True)\n",
            "    (9): ReLU(inplace=True)\n",
            "    (10): Conv2d(128, 128, kernel_size=(3, 3), stride=(1, 1), padding=(1, 1))\n",
            "    (11): BatchNorm2d(128, eps=1e-05, momentum=0.1, affine=True, track_running_stats=True)\n",
            "    (12): ReLU(inplace=True)\n",
            "    (13): MaxPool2d(kernel_size=2, stride=2, padding=0, dilation=1, ceil_mode=False)\n",
            "    (14): Conv2d(128, 256, kernel_size=(3, 3), stride=(1, 1), padding=(1, 1))\n",
            "    (15): BatchNorm2d(256, eps=1e-05, momentum=0.1, affine=True, track_running_stats=True)\n",
            "    (16): ReLU(inplace=True)\n",
            "    (17): Conv2d(256, 256, kernel_size=(3, 3), stride=(1, 1), padding=(1, 1))\n",
            "    (18): BatchNorm2d(256, eps=1e-05, momentum=0.1, affine=True, track_running_stats=True)\n",
            "    (19): ReLU(inplace=True)\n",
            "    (20): Conv2d(256, 256, kernel_size=(3, 3), stride=(1, 1), padding=(1, 1))\n",
            "    (21): BatchNorm2d(256, eps=1e-05, momentum=0.1, affine=True, track_running_stats=True)\n",
            "    (22): ReLU(inplace=True)\n",
            "    (23): MaxPool2d(kernel_size=2, stride=2, padding=0, dilation=1, ceil_mode=False)\n",
            "    (24): Conv2d(256, 512, kernel_size=(3, 3), stride=(1, 1), padding=(1, 1))\n",
            "    (25): BatchNorm2d(512, eps=1e-05, momentum=0.1, affine=True, track_running_stats=True)\n",
            "    (26): ReLU(inplace=True)\n",
            "    (27): Conv2d(512, 512, kernel_size=(3, 3), stride=(1, 1), padding=(1, 1))\n",
            "    (28): BatchNorm2d(512, eps=1e-05, momentum=0.1, affine=True, track_running_stats=True)\n",
            "    (29): ReLU(inplace=True)\n",
            "    (30): Conv2d(512, 512, kernel_size=(3, 3), stride=(1, 1), padding=(1, 1))\n",
            "    (31): BatchNorm2d(512, eps=1e-05, momentum=0.1, affine=True, track_running_stats=True)\n",
            "    (32): ReLU(inplace=True)\n",
            "    (33): MaxPool2d(kernel_size=2, stride=2, padding=0, dilation=1, ceil_mode=False)\n",
            "    (34): Conv2d(512, 512, kernel_size=(3, 3), stride=(1, 1), padding=(1, 1))\n",
            "    (35): BatchNorm2d(512, eps=1e-05, momentum=0.1, affine=True, track_running_stats=True)\n",
            "    (36): ReLU(inplace=True)\n",
            "    (37): Conv2d(512, 512, kernel_size=(3, 3), stride=(1, 1), padding=(1, 1))\n",
            "    (38): BatchNorm2d(512, eps=1e-05, momentum=0.1, affine=True, track_running_stats=True)\n",
            "    (39): ReLU(inplace=True)\n",
            "    (40): Conv2d(512, 512, kernel_size=(3, 3), stride=(1, 1), padding=(1, 1))\n",
            "    (41): BatchNorm2d(512, eps=1e-05, momentum=0.1, affine=True, track_running_stats=True)\n",
            "    (42): ReLU(inplace=True)\n",
            "    (43): MaxPool2d(kernel_size=2, stride=2, padding=0, dilation=1, ceil_mode=False)\n",
            "  )\n",
            "  (avgpool): AdaptiveAvgPool2d(output_size=(7, 7))\n",
            "  (classifier): Sequential(\n",
            "    (0): Linear(in_features=25088, out_features=4096, bias=True)\n",
            "    (1): ReLU(inplace=True)\n",
            "    (2): Dropout(p=0.5, inplace=False)\n",
            "    (3): Linear(in_features=4096, out_features=4096, bias=True)\n",
            "    (4): ReLU(inplace=True)\n",
            "    (5): Dropout(p=0.5, inplace=False)\n",
            "    (6): Linear(in_features=4096, out_features=10, bias=True)\n",
            "  )\n",
            ")\n"
          ],
          "name": "stdout"
        }
      ]
    },
    {
      "cell_type": "markdown",
      "metadata": {
        "id": "DVR1FiuJ-BzX"
      },
      "source": [
        "### Train CIFAR10"
      ]
    },
    {
      "cell_type": "code",
      "metadata": {
        "id": "pKnlGE1q7JtN"
      },
      "source": [
        "batch_size = 16\n",
        "\n",
        "trainloader = torch.utils.data.DataLoader(trainset, batch_size=batch_size, shuffle=True)\n",
        "testloader = torch.utils.data.DataLoader(testset, batch_size=batch_size, shuffle=False)"
      ],
      "execution_count": 19,
      "outputs": []
    },
    {
      "cell_type": "code",
      "metadata": {
        "id": "MtRHmDs_BvZG"
      },
      "source": [
        "def evaluation(dataloader, model):\n",
        "    total, correct = 0, 0\n",
        "    for data in dataloader:\n",
        "        inputs, labels = data\n",
        "        inputs, labels = inputs.to(device), labels.to(device)\n",
        "        outputs = model(inputs)\n",
        "        _, pred = torch.max(outputs.data, 1)\n",
        "        total += labels.size(0)\n",
        "        correct += (pred == labels).sum().item()\n",
        "    return 100 * correct / total"
      ],
      "execution_count": 20,
      "outputs": []
    },
    {
      "cell_type": "code",
      "metadata": {
        "id": "htVdEliECDsz"
      },
      "source": [
        "vgg = vgg.to(device)\n",
        "loss_fn = nn.CrossEntropyLoss()\n",
        "opt = optim.SGD(vgg.parameters(), lr=0.05)"
      ],
      "execution_count": 21,
      "outputs": []
    },
    {
      "cell_type": "code",
      "metadata": {
        "id": "xSWnZJxjBbwW",
        "colab": {
          "base_uri": "https://localhost:8080/",
          "height": 826
        },
        "outputId": "4af02816-2e2b-45a9-b614-258eb0b1b5c2"
      },
      "source": [
        "loss_epoch_arr = []\n",
        "max_epochs = 1\n",
        "\n",
        "n_iters = np.ceil(50000/batch_size)\n",
        "\n",
        "for epoch in range(max_epochs):\n",
        "\n",
        "    for i, data in enumerate(trainloader, 0):\n",
        "\n",
        "        inputs, labels = data\n",
        "        inputs, labels = inputs.to(device), labels.to(device)\n",
        "\n",
        "        opt.zero_grad()\n",
        "\n",
        "        outputs = vgg(inputs)\n",
        "        loss = loss_fn(outputs, labels)\n",
        "        loss.backward()\n",
        "        opt.step()\n",
        "        \n",
        "        del inputs, labels, outputs\n",
        "        torch.cuda.empty_cache()\n",
        "        \n",
        "        if i % 100 == 0:\n",
        "            print('Iteration: %d/%d, Loss: %0.2f' % (i, n_iters, loss.item()))\n",
        "        \n",
        "    loss_epoch_arr.append(loss.item())\n",
        "        \n",
        "    print('Epoch: %d/%d, Test acc: %0.2f, Train acc: %0.2f' % (\n",
        "        epoch, max_epochs, \n",
        "        evaluation(testloader, vgg), evaluation(trainloader, vgg)))\n",
        "    \n",
        "plt.plot(loss_epoch_arr)\n",
        "plt.show()"
      ],
      "execution_count": 22,
      "outputs": [
        {
          "output_type": "stream",
          "text": [
            "Iteration: 0/3125, Loss: 2.47\n",
            "Iteration: 100/3125, Loss: 2.78\n",
            "Iteration: 200/3125, Loss: 2.33\n",
            "Iteration: 300/3125, Loss: 2.17\n",
            "Iteration: 400/3125, Loss: 2.12\n",
            "Iteration: 500/3125, Loss: 2.18\n",
            "Iteration: 600/3125, Loss: 2.14\n",
            "Iteration: 700/3125, Loss: 2.11\n",
            "Iteration: 800/3125, Loss: 2.02\n",
            "Iteration: 900/3125, Loss: 2.52\n",
            "Iteration: 1000/3125, Loss: 2.03\n",
            "Iteration: 1100/3125, Loss: 2.11\n",
            "Iteration: 1200/3125, Loss: 1.94\n",
            "Iteration: 1300/3125, Loss: 2.19\n",
            "Iteration: 1400/3125, Loss: 2.04\n",
            "Iteration: 1500/3125, Loss: 2.16\n",
            "Iteration: 1600/3125, Loss: 2.28\n",
            "Iteration: 1700/3125, Loss: 1.99\n",
            "Iteration: 1800/3125, Loss: 1.96\n",
            "Iteration: 1900/3125, Loss: 1.94\n",
            "Iteration: 2000/3125, Loss: 1.95\n",
            "Iteration: 2100/3125, Loss: 2.05\n",
            "Iteration: 2200/3125, Loss: 2.06\n",
            "Iteration: 2300/3125, Loss: 1.98\n",
            "Iteration: 2400/3125, Loss: 1.82\n",
            "Iteration: 2500/3125, Loss: 1.94\n",
            "Iteration: 2600/3125, Loss: 2.29\n",
            "Iteration: 2700/3125, Loss: 1.90\n",
            "Iteration: 2800/3125, Loss: 1.96\n",
            "Iteration: 2900/3125, Loss: 1.87\n",
            "Iteration: 3000/3125, Loss: 2.22\n",
            "Iteration: 3100/3125, Loss: 2.11\n",
            "Epoch: 0/1, Test acc: 26.14, Train acc: 26.16\n"
          ],
          "name": "stdout"
        },
        {
          "output_type": "display_data",
          "data": {
            "image/png": "[encoded data removed]",
            "text/plain": [
              "<Figure size 432x288 with 1 Axes>"
            ]
          },
          "metadata": {
            "tags": [],
            "needs_background": "light"
          }
        }
      ]
    },
    {
      "cell_type": "markdown",
      "metadata": {
        "id": "Bh4gREC-IGFB"
      },
      "source": [
        "### Freeze layers of Convolutional Operations"
      ]
    },
    {
      "cell_type": "code",
      "metadata": {
        "id": "3aD1lt1qcJOU"
      },
      "source": [
        "batch_size = 16\n",
        "\n",
        "trainloader = torch.utils.data.DataLoader(trainset, batch_size=batch_size, shuffle=True)\n",
        "testloader = torch.utils.data.DataLoader(testset, batch_size=batch_size, shuffle=False)"
      ],
      "execution_count": 23,
      "outputs": []
    },
    {
      "cell_type": "code",
      "metadata": {
        "id": "FzniE5sKKlnY",
        "colab": {
          "base_uri": "https://localhost:8080/",
          "height": 83,
          "referenced_widgets": [
            "c5563c803e224de1964dfb872c3ca2d8",
            "73cf9a0987d44b6b84249fb352e14eba",
            "5548f846f0a3440f82d6638c0a66290c",
            "ea35599896724443a3a17128bb90d6da",
            "b6358a2721354177af7aa335bb8e6649",
            "73ab963218f2425dafc6b8febfc6929a",
            "67a5874139ad4db2b98af8175c818711",
            "9d16809c6bde4a298ecb145047b3cf8d"
          ]
        },
        "outputId": "7a633e97-a54c-400f-b95e-649eeb2de128"
      },
      "source": [
        "vgg = models.vgg16_bn(pretrained=True)"
      ],
      "execution_count": 24,
      "outputs": [
        {
          "output_type": "stream",
          "text": [
            "Downloading: \"https://download.pytorch.org/models/vgg16_bn-6c64b313.pth\" to /root/.cache/torch/hub/checkpoints/vgg16_bn-6c64b313.pth\n"
          ],
          "name": "stderr"
        },
        {
          "output_type": "display_data",
          "data": {
            "application/vnd.jupyter.widget-view+json": {
              "model_id": "c5563c803e224de1964dfb872c3ca2d8",
              "version_minor": 0,
              "version_major": 2
            },
            "text/plain": [
              "HBox(children=(FloatProgress(value=0.0, max=553507836.0), HTML(value='')))"
            ]
          },
          "metadata": {
            "tags": []
          }
        },
        {
          "output_type": "stream",
          "text": [
            "\n"
          ],
          "name": "stdout"
        }
      ]
    },
    {
      "cell_type": "code",
      "metadata": {
        "id": "MzaHEHaczpWS"
      },
      "source": [
        "for param in vgg.parameters():\n",
        "    param.requires_grad = False"
      ],
      "execution_count": 25,
      "outputs": []
    },
    {
      "cell_type": "code",
      "metadata": {
        "id": "YFAhAvahzrRh"
      },
      "source": [
        "final_in_features = vgg.classifier[6].in_features\n",
        "vgg.classifier[6] = nn.Linear(final_in_features, num_classes)"
      ],
      "execution_count": 26,
      "outputs": []
    },
    {
      "cell_type": "code",
      "metadata": {
        "id": "uqXCJEiK0Z2V",
        "colab": {
          "base_uri": "https://localhost:8080/"
        },
        "outputId": "e025a59a-b982-4404-f0f3-815385eb40a5"
      },
      "source": [
        "for param in vgg.parameters():\n",
        "    if param.requires_grad:\n",
        "        print(param.shape)"
      ],
      "execution_count": 27,
      "outputs": [
        {
          "output_type": "stream",
          "text": [
            "torch.Size([10, 4096])\n",
            "torch.Size([10])\n"
          ],
          "name": "stdout"
        }
      ]
    },
    {
      "cell_type": "code",
      "metadata": {
        "id": "lH-99npmPRUk"
      },
      "source": [
        "vgg = vgg.to(device)\n",
        "loss_fn = nn.CrossEntropyLoss()\n",
        "opt = optim.SGD(vgg.parameters(), lr=0.05)"
      ],
      "execution_count": 28,
      "outputs": []
    },
    {
      "cell_type": "code",
      "metadata": {
        "id": "5HuWwxaxIMTV",
        "colab": {
          "base_uri": "https://localhost:8080/",
          "height": 826
        },
        "outputId": "3ae253a6-083c-4276-bd74-7a1b79cf4272"
      },
      "source": [
        "loss_epoch_arr = []\n",
        "max_epochs = 1\n",
        "\n",
        "n_iters = np.ceil(50000/batch_size)\n",
        "\n",
        "for epoch in range(max_epochs):\n",
        "\n",
        "    for i, data in enumerate(trainloader, 0):\n",
        "\n",
        "        inputs, labels = data\n",
        "        inputs, labels = inputs.to(device), labels.to(device)\n",
        "\n",
        "        opt.zero_grad()\n",
        "\n",
        "        outputs = vgg(inputs)\n",
        "        loss = loss_fn(outputs, labels)\n",
        "        loss.backward()\n",
        "        opt.step()\n",
        "        \n",
        "        if i % 100 == 0:\n",
        "            print('Iteration: %d/%d, Loss: %0.2f' % (i, n_iters, loss.item()))\n",
        "            \n",
        "        del inputs, labels, outputs\n",
        "        torch.cuda.empty_cache()\n",
        "        \n",
        "    loss_epoch_arr.append(loss.item())\n",
        "        \n",
        "    print('Epoch: %d/%d, Test acc: %0.2f, Train acc: %0.2f' % (\n",
        "        epoch, max_epochs, \n",
        "        evaluation(testloader, vgg), evaluation(trainloader, vgg)))\n",
        "    \n",
        "    \n",
        "plt.plot(loss_epoch_arr)\n",
        "plt.show()"
      ],
      "execution_count": 29,
      "outputs": [
        {
          "output_type": "stream",
          "text": [
            "Iteration: 0/3125, Loss: 2.27\n",
            "Iteration: 100/3125, Loss: 1.76\n",
            "Iteration: 200/3125, Loss: 3.07\n",
            "Iteration: 300/3125, Loss: 1.57\n",
            "Iteration: 400/3125, Loss: 2.08\n",
            "Iteration: 500/3125, Loss: 2.84\n",
            "Iteration: 600/3125, Loss: 2.22\n",
            "Iteration: 700/3125, Loss: 2.28\n",
            "Iteration: 800/3125, Loss: 2.10\n",
            "Iteration: 900/3125, Loss: 1.42\n",
            "Iteration: 1000/3125, Loss: 2.37\n",
            "Iteration: 1100/3125, Loss: 1.56\n",
            "Iteration: 1200/3125, Loss: 1.91\n",
            "Iteration: 1300/3125, Loss: 1.44\n",
            "Iteration: 1400/3125, Loss: 2.36\n",
            "Iteration: 1500/3125, Loss: 2.39\n",
            "Iteration: 1600/3125, Loss: 2.47\n",
            "Iteration: 1700/3125, Loss: 2.92\n",
            "Iteration: 1800/3125, Loss: 1.64\n",
            "Iteration: 1900/3125, Loss: 2.61\n",
            "Iteration: 2000/3125, Loss: 2.01\n",
            "Iteration: 2100/3125, Loss: 1.16\n",
            "Iteration: 2200/3125, Loss: 1.58\n",
            "Iteration: 2300/3125, Loss: 2.79\n",
            "Iteration: 2400/3125, Loss: 2.55\n",
            "Iteration: 2500/3125, Loss: 1.39\n",
            "Iteration: 2600/3125, Loss: 1.36\n",
            "Iteration: 2700/3125, Loss: 2.35\n",
            "Iteration: 2800/3125, Loss: 1.37\n",
            "Iteration: 2900/3125, Loss: 2.12\n",
            "Iteration: 3000/3125, Loss: 2.17\n",
            "Iteration: 3100/3125, Loss: 2.78\n",
            "Epoch: 0/1, Test acc: 46.04, Train acc: 46.43\n"
          ],
          "name": "stdout"
        },
        {
          "output_type": "display_data",
          "data": {
            "image/png": "[encoded data removed]",
            "text/plain": [
              "<Figure size 432x288 with 1 Axes>"
            ]
          },
          "metadata": {
            "tags": [],
            "needs_background": "light"
          }
        }
      ]
    },
    {
      "cell_type": "markdown",
      "metadata": {
        "id": "AeacSwlg5p2r"
      },
      "source": [
        "### With model copies"
      ]
    },
    {
      "cell_type": "code",
      "metadata": {
        "id": "4-dZMeUTpAxC"
      },
      "source": [
        "import copy"
      ],
      "execution_count": 30,
      "outputs": []
    },
    {
      "cell_type": "code",
      "metadata": {
        "id": "Wf0qM_-PlXl-",
        "colab": {
          "base_uri": "https://localhost:8080/"
        },
        "outputId": "693cabdc-5756-46d9-ad31-79bb79d6229d"
      },
      "source": [
        "loss_epoch_arr = []\n",
        "max_epochs = 1\n",
        "\n",
        "min_loss = 1000\n",
        "\n",
        "n_iters = np.ceil(50000/batch_size)\n",
        "\n",
        "for epoch in range(max_epochs):\n",
        "\n",
        "    for i, data in enumerate(trainloader, 0):\n",
        "\n",
        "        inputs, labels = data\n",
        "        inputs, labels = inputs.to(device), labels.to(device)\n",
        "\n",
        "        opt.zero_grad()\n",
        "\n",
        "        outputs = vgg(inputs)\n",
        "        loss = loss_fn(outputs, labels)\n",
        "        loss.backward()\n",
        "        opt.step()\n",
        "        \n",
        "        if min_loss > loss.item():\n",
        "            min_loss = loss.item()\n",
        "            best_model = copy.deepcopy(vgg.state_dict())\n",
        "            print('Min loss %0.2f' % min_loss)\n",
        "        \n",
        "        if i % 100 == 0:\n",
        "            print('Iteration: %d/%d, Loss: %0.2f' % (i, n_iters, loss.item()))\n",
        "            \n",
        "        del inputs, labels, outputs\n",
        "        torch.cuda.empty_cache()\n",
        "        \n",
        "    loss_epoch_arr.append(loss.item())"
      ],
      "execution_count": 31,
      "outputs": [
        {
          "output_type": "stream",
          "text": [
            "Min loss 2.24\n",
            "Iteration: 0/3125, Loss: 2.24\n",
            "Min loss 1.54\n",
            "Min loss 1.24\n",
            "Min loss 1.24\n",
            "Min loss 1.15\n",
            "Min loss 0.82\n",
            "Iteration: 100/3125, Loss: 1.73\n",
            "Min loss 0.78\n",
            "Iteration: 200/3125, Loss: 2.13\n",
            "Min loss 0.68\n",
            "Iteration: 300/3125, Loss: 2.48\n",
            "Iteration: 400/3125, Loss: 2.18\n",
            "Iteration: 500/3125, Loss: 2.10\n",
            "Iteration: 600/3125, Loss: 2.36\n",
            "Iteration: 700/3125, Loss: 2.48\n",
            "Iteration: 800/3125, Loss: 3.05\n",
            "Iteration: 900/3125, Loss: 3.25\n",
            "Iteration: 1000/3125, Loss: 1.65\n",
            "Iteration: 1100/3125, Loss: 1.99\n",
            "Min loss 0.60\n",
            "Iteration: 1200/3125, Loss: 1.85\n",
            "Iteration: 1300/3125, Loss: 1.87\n",
            "Iteration: 1400/3125, Loss: 2.36\n",
            "Min loss 0.60\n",
            "Iteration: 1500/3125, Loss: 2.72\n",
            "Min loss 0.46\n",
            "Iteration: 1600/3125, Loss: 2.24\n",
            "Iteration: 1700/3125, Loss: 1.62\n",
            "Iteration: 1800/3125, Loss: 2.86\n",
            "Iteration: 1900/3125, Loss: 1.37\n",
            "Iteration: 2000/3125, Loss: 1.44\n",
            "Iteration: 2100/3125, Loss: 2.17\n",
            "Iteration: 2200/3125, Loss: 2.61\n",
            "Iteration: 2300/3125, Loss: 1.94\n",
            "Iteration: 2400/3125, Loss: 2.93\n",
            "Min loss 0.40\n",
            "Iteration: 2500/3125, Loss: 2.49\n",
            "Iteration: 2600/3125, Loss: 1.86\n",
            "Iteration: 2700/3125, Loss: 1.87\n",
            "Iteration: 2800/3125, Loss: 1.29\n",
            "Iteration: 2900/3125, Loss: 2.32\n",
            "Iteration: 3000/3125, Loss: 2.51\n",
            "Iteration: 3100/3125, Loss: 3.46\n"
          ],
          "name": "stdout"
        }
      ]
    },
    {
      "cell_type": "code",
      "metadata": {
        "id": "_2GAOmBytwZ9",
        "colab": {
          "base_uri": "https://localhost:8080/"
        },
        "outputId": "a7f1966e-cd4b-4de0-e220-c3775208637a"
      },
      "source": [
        "vgg.load_state_dict(best_model)\n",
        "print(evaluation(trainloader, vgg), evaluation(testloader, vgg))"
      ],
      "execution_count": 32,
      "outputs": [
        {
          "output_type": "stream",
          "text": [
            "47.14 47.14\n"
          ],
          "name": "stdout"
        }
      ]
    },
    {
      "cell_type": "markdown",
      "metadata": {
        "id": "83zNw_MLFBhd"
      },
      "source": [
        "## ResNet Model"
      ]
    },
    {
      "cell_type": "markdown",
      "metadata": {
        "id": "RJHZ2ibFGYfG"
      },
      "source": [
        "https://pytorch.org/docs/master/_modules/torchvision/models/resnet.html"
      ]
    },
    {
      "cell_type": "code",
      "metadata": {
        "id": "gYZJSHEKFDfS"
      },
      "source": [
        "resnet = models.resnet18(pretrained=True)"
      ],
      "execution_count": null,
      "outputs": []
    },
    {
      "cell_type": "code",
      "metadata": {
        "id": "KMUoM7ToFFeK"
      },
      "source": [
        "print(resnet)"
      ],
      "execution_count": null,
      "outputs": []
    },
    {
      "cell_type": "code",
      "metadata": {
        "id": "t1KOHDdtFoK5"
      },
      "source": [
        "for param in resnet.parameters():\n",
        "    param.requires_grad = False"
      ],
      "execution_count": null,
      "outputs": []
    },
    {
      "cell_type": "code",
      "metadata": {
        "id": "LrL2ZlhrGwFL"
      },
      "source": [
        "in_features = resnet.fc.in_features\n",
        "resnet.fc = nn.Linear(in_features, num_classes)"
      ],
      "execution_count": null,
      "outputs": []
    },
    {
      "cell_type": "code",
      "metadata": {
        "id": "53REdyaaG8ap"
      },
      "source": [
        "for param in resnet.parameters():\n",
        "    if param.requires_grad:\n",
        "        print(param.shape)"
      ],
      "execution_count": null,
      "outputs": []
    },
    {
      "cell_type": "code",
      "metadata": {
        "id": "vQTZ3X_pG_tT"
      },
      "source": [
        "resnet = resnet.to(device)\n",
        "loss_fn = nn.CrossEntropyLoss()\n",
        "opt = optim.SGD(resnet.parameters(), lr=0.01)"
      ],
      "execution_count": null,
      "outputs": []
    },
    {
      "cell_type": "code",
      "metadata": {
        "id": "rklYsln-Hcpj"
      },
      "source": [
        "loss_epoch_arr = []\n",
        "max_epochs = 4\n",
        "\n",
        "min_loss = 1000\n",
        "\n",
        "n_iters = np.ceil(50000/batch_size)\n",
        "\n",
        "for epoch in range(max_epochs):\n",
        "\n",
        "    for i, data in enumerate(trainloader, 0):\n",
        "\n",
        "        inputs, labels = data\n",
        "        inputs, labels = inputs.to(device), labels.to(device)\n",
        "\n",
        "        opt.zero_grad()\n",
        "\n",
        "        outputs = resnet(inputs)\n",
        "        loss = loss_fn(outputs, labels)\n",
        "        loss.backward()\n",
        "        opt.step()\n",
        "        \n",
        "        if min_loss > loss.item():\n",
        "            min_loss = loss.item()\n",
        "            best_model = copy.deepcopy(resnet.state_dict())\n",
        "            print('Min loss %0.2f' % min_loss)\n",
        "        \n",
        "        if i % 100 == 0:\n",
        "            print('Iteration: %d/%d, Loss: %0.2f' % (i, n_iters, loss.item()))\n",
        "            \n",
        "        del inputs, labels, outputs\n",
        "        torch.cuda.empty_cache()\n",
        "        \n",
        "    loss_epoch_arr.append(loss.item())\n",
        "        \n",
        "    print('Epoch: %d/%d, Test acc: %0.2f, Train acc: %0.2f' % (\n",
        "        epoch, max_epochs, \n",
        "        evaluation(testloader, resnet), evaluation(trainloader, resnet)))\n",
        "    \n",
        "    \n",
        "plt.plot(loss_epoch_arr)\n",
        "plt.show()"
      ],
      "execution_count": null,
      "outputs": []
    },
    {
      "cell_type": "code",
      "metadata": {
        "id": "SbetTwcrIMnQ"
      },
      "source": [
        "resnet.load_state_dict(best_model)\n",
        "print(evaluation(trainloader, resnet), evaluation(testloader, resnet))"
      ],
      "execution_count": null,
      "outputs": []
    },
    {
      "cell_type": "markdown",
      "metadata": {
        "id": "asFT3q7vdDbd"
      },
      "source": [
        "## Inception Model"
      ]
    },
    {
      "cell_type": "markdown",
      "metadata": {
        "id": "k-gBu2zCGWE8"
      },
      "source": [
        "https://pytorch.org/docs/master/_modules/torchvision/models/inception.html"
      ]
    },
    {
      "cell_type": "code",
      "metadata": {
        "id": "rpAr08aGIOle"
      },
      "source": [
        "inception = models.inception_v3(pretrained=True)"
      ],
      "execution_count": null,
      "outputs": []
    },
    {
      "cell_type": "code",
      "metadata": {
        "id": "TM_ACRUHdMfi"
      },
      "source": [
        "print(inception)"
      ],
      "execution_count": null,
      "outputs": []
    },
    {
      "cell_type": "code",
      "metadata": {
        "id": "Nbu0JobP6ea9"
      },
      "source": [
        "for param in inception.parameters():\n",
        "    param.requires_grad = False"
      ],
      "execution_count": null,
      "outputs": []
    },
    {
      "cell_type": "code",
      "metadata": {
        "id": "j31it2qX5Nfs"
      },
      "source": [
        "aux_in_features = inception.AuxLogits.fc.in_features\n",
        "inception.AuxLogits.fc = nn.Linear(aux_in_features, num_classes)"
      ],
      "execution_count": null,
      "outputs": []
    },
    {
      "cell_type": "code",
      "metadata": {
        "id": "7-M6nGOh6Xg2"
      },
      "source": [
        "for param in inception.parameters():\n",
        "    if param.requires_grad:\n",
        "        print(param.shape)"
      ],
      "execution_count": null,
      "outputs": []
    },
    {
      "cell_type": "code",
      "metadata": {
        "id": "pOI1Au2A6l9X"
      },
      "source": [
        "in_features = inception.fc.in_features\n",
        "inception.fc = nn.Linear(in_features, num_classes)"
      ],
      "execution_count": null,
      "outputs": []
    },
    {
      "cell_type": "code",
      "metadata": {
        "id": "sF5pPlUS7I-7"
      },
      "source": [
        "for param in inception.parameters():\n",
        "    if param.requires_grad:\n",
        "        print(param.shape)"
      ],
      "execution_count": null,
      "outputs": []
    },
    {
      "cell_type": "code",
      "metadata": {
        "id": "vMSMZa_j7JXG"
      },
      "source": [
        "transform_train = transforms.Compose([\n",
        "    transforms.RandomResizedCrop(299), \n",
        "    transforms.ToTensor(),\n",
        "    transforms.Normalize((0.5, 0.5, 0.5), (0.5, 0.5, 0.5)),\n",
        "    ])\n",
        "\n",
        "transform_test = transforms.Compose([\n",
        "    transforms.RandomResizedCrop(299), \n",
        "    transforms.ToTensor(),\n",
        "    transforms.Normalize((0.5, 0.5, 0.5), (0.5, 0.5, 0.5)),\n",
        "    ])"
      ],
      "execution_count": null,
      "outputs": []
    },
    {
      "cell_type": "code",
      "metadata": {
        "id": "kYVy8C0H7vL7"
      },
      "source": [
        "trainset = torchvision.datasets.CIFAR10(root='./data', train=True, \n",
        "                                        download=True, \n",
        "                                        transform=transform_train)\n",
        "testset = torchvision.datasets.CIFAR10(root='./data', train=False, \n",
        "                                        download=True, \n",
        "                                        transform=transform_test)"
      ],
      "execution_count": null,
      "outputs": []
    },
    {
      "cell_type": "code",
      "metadata": {
        "id": "tkUGBe3x7zld"
      },
      "source": [
        "batch_size=16\n",
        "\n",
        "trainloader = torch.utils.data.DataLoader(trainset, batch_size=batch_size, shuffle=True)\n",
        "testloader = torch.utils.data.DataLoader(testset, batch_size=batch_size, shuffle=False)"
      ],
      "execution_count": null,
      "outputs": []
    },
    {
      "cell_type": "code",
      "metadata": {
        "id": "jeKDmSV98QfZ"
      },
      "source": [
        "inception = inception.to(device)\n",
        "loss_fn = nn.CrossEntropyLoss()\n",
        "opt = optim.SGD(inception.parameters(), lr=0.01)"
      ],
      "execution_count": null,
      "outputs": []
    },
    {
      "cell_type": "code",
      "metadata": {
        "id": "Ou_Q_JwK_fqn"
      },
      "source": [
        "def evaluation_inception(dataloader, model):\n",
        "    total, correct = 0, 0\n",
        "    for data in dataloader:\n",
        "        inputs, labels = data\n",
        "        inputs, labels = inputs.to(device), labels.to(device)\n",
        "        outputs, aux_outputs = model(inputs)\n",
        "        _, pred = torch.max(outputs.data, 1)\n",
        "        total += labels.size(0)\n",
        "        correct += (pred == labels).sum().item()\n",
        "    return 100 * correct / total"
      ],
      "execution_count": null,
      "outputs": []
    },
    {
      "cell_type": "code",
      "metadata": {
        "id": "VqmnOJqP75AK"
      },
      "source": [
        "loss_epoch_arr = []\n",
        "max_epochs = 1\n",
        "\n",
        "min_loss = 1000\n",
        "\n",
        "n_iters = np.ceil(50000/batch_size)\n",
        "\n",
        "for epoch in range(max_epochs):\n",
        "\n",
        "    for i, data in enumerate(trainloader, 0):\n",
        "\n",
        "        inputs, labels = data\n",
        "        inputs, labels = inputs.to(device), labels.to(device)\n",
        "\n",
        "        opt.zero_grad()\n",
        "\n",
        "        outputs, aux_outputs = inception(inputs)\n",
        "        loss = loss_fn(outputs, labels) + 0.3 * loss_fn(aux_outputs, labels)\n",
        "        loss.backward()\n",
        "        opt.step()\n",
        "        \n",
        "        if min_loss > loss.item():\n",
        "            min_loss = loss.item()\n",
        "            best_model = copy.deepcopy(inception.state_dict())\n",
        "            print('Min loss %0.2f' % min_loss)\n",
        "        \n",
        "        if i % 100 == 0:\n",
        "            print('Iteration: %d/%d, Loss: %0.2f' % (i, n_iters, loss.item()))\n",
        "            \n",
        "        del inputs, labels, outputs\n",
        "        torch.cuda.empty_cache()\n",
        "        \n",
        "    loss_epoch_arr.append(loss.item())\n",
        "        \n",
        "    print('Epoch: %d/%d, Test acc: %0.2f, Train acc: %0.2f' % (\n",
        "        epoch, max_epochs, \n",
        "        evaluation_inception(testloader, inception), \n",
        "        evaluation_inception(trainloader, inception)))\n",
        "    \n",
        "    \n",
        "plt.plot(loss_epoch_arr)\n",
        "plt.show()"
      ],
      "execution_count": null,
      "outputs": []
    },
    {
      "cell_type": "code",
      "metadata": {
        "id": "YfcUcxaL8T_U"
      },
      "source": [
        "inception.load_state_dict(best_model)\n",
        "print(evaluation_inception(trainloader, inception), evaluation_inception(testloader, inception))"
      ],
      "execution_count": null,
      "outputs": []
    },
    {
      "cell_type": "markdown",
      "metadata": {
        "id": "EVxdZeh_JVVK"
      },
      "source": [
        "## Exercises"
      ]
    },
    {
      "cell_type": "markdown",
      "metadata": {
        "id": "ONIJxTuqJW1W"
      },
      "source": [
        "1. Structure the above code into a series of functions and then call each model\n",
        "\n",
        "2. Try out different hyperparameter combinations and try to achieve published results on different networks\n",
        "\n",
        "3. Try out the CIFAR100 and STL10 datasets\n",
        "\n",
        "4. Try out another model - SqueezeNet\n",
        "\n",
        "5. Try training multiple layers and not just the last one"
      ]
    },
    {
      "cell_type": "code",
      "metadata": {
        "id": "bL9x2x9Dw9L5"
      },
      "source": [
        ""
      ],
      "execution_count": null,
      "outputs": []
    }
  ]
}