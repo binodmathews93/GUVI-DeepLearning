{
  "nbformat": 4,
  "nbformat_minor": 0,
  "metadata": {
    "colab": {
      "name": "PyTorchCNN.ipynb",
      "provenance": [],
      "collapsed_sections": [],
      "toc_visible": true,
      "include_colab_link": true
    },
    "kernelspec": {
      "name": "python3",
      "display_name": "Python 3"
    },
    "accelerator": "GPU",
    "widgets": {
      "application/vnd.jupyter.widget-state+json": {
        "f7305d0811244bc386a28e56e566a256": {
          "model_module": "@jupyter-widgets/controls",
          "model_name": "HBoxModel",
          "state": {
            "_view_name": "HBoxView",
            "_dom_classes": [],
            "_model_name": "HBoxModel",
            "_view_module": "@jupyter-widgets/controls",
            "_model_module_version": "1.5.0",
            "_view_count": null,
            "_view_module_version": "1.5.0",
            "box_style": "",
            "layout": "IPY_MODEL_9d78ea3277834d08aed21b92b39c4ea1",
            "_model_module": "@jupyter-widgets/controls",
            "children": [
              "IPY_MODEL_e743565b17a74547a93c9017d3f1d1b8",
              "IPY_MODEL_7cfb666d5a304c958e9008f81c0d9fee"
            ]
          }
        },
        "9d78ea3277834d08aed21b92b39c4ea1": {
          "model_module": "@jupyter-widgets/base",
          "model_name": "LayoutModel",
          "state": {
            "_view_name": "LayoutView",
            "grid_template_rows": null,
            "right": null,
            "justify_content": null,
            "_view_module": "@jupyter-widgets/base",
            "overflow": null,
            "_model_module_version": "1.2.0",
            "_view_count": null,
            "flex_flow": null,
            "width": null,
            "min_width": null,
            "border": null,
            "align_items": null,
            "bottom": null,
            "_model_module": "@jupyter-widgets/base",
            "top": null,
            "grid_column": null,
            "overflow_y": null,
            "overflow_x": null,
            "grid_auto_flow": null,
            "grid_area": null,
            "grid_template_columns": null,
            "flex": null,
            "_model_name": "LayoutModel",
            "justify_items": null,
            "grid_row": null,
            "max_height": null,
            "align_content": null,
            "visibility": null,
            "align_self": null,
            "height": null,
            "min_height": null,
            "padding": null,
            "grid_auto_rows": null,
            "grid_gap": null,
            "max_width": null,
            "order": null,
            "_view_module_version": "1.2.0",
            "grid_template_areas": null,
            "object_position": null,
            "object_fit": null,
            "grid_auto_columns": null,
            "margin": null,
            "display": null,
            "left": null
          }
        },
        "e743565b17a74547a93c9017d3f1d1b8": {
          "model_module": "@jupyter-widgets/controls",
          "model_name": "FloatProgressModel",
          "state": {
            "_view_name": "ProgressView",
            "style": "IPY_MODEL_1c03575f572b49e6b3c95b3bf34b4f99",
            "_dom_classes": [],
            "description": "",
            "_model_name": "FloatProgressModel",
            "bar_style": "success",
            "max": 170498071,
            "_view_module": "@jupyter-widgets/controls",
            "_model_module_version": "1.5.0",
            "value": 170498071,
            "_view_count": null,
            "_view_module_version": "1.5.0",
            "orientation": "horizontal",
            "min": 0,
            "description_tooltip": null,
            "_model_module": "@jupyter-widgets/controls",
            "layout": "IPY_MODEL_bfb06b1ab83949f2991f19a2fcde3aef"
          }
        },
        "7cfb666d5a304c958e9008f81c0d9fee": {
          "model_module": "@jupyter-widgets/controls",
          "model_name": "HTMLModel",
          "state": {
            "_view_name": "HTMLView",
            "style": "IPY_MODEL_3914a3ebf19d405dbcbe61e428442292",
            "_dom_classes": [],
            "description": "",
            "_model_name": "HTMLModel",
            "placeholder": "​",
            "_view_module": "@jupyter-widgets/controls",
            "_model_module_version": "1.5.0",
            "value": " 170499072/? [00:07&lt;00:00, 23983551.42it/s]",
            "_view_count": null,
            "_view_module_version": "1.5.0",
            "description_tooltip": null,
            "_model_module": "@jupyter-widgets/controls",
            "layout": "IPY_MODEL_4211af7abfdb4cf2befb5f6a34c08656"
          }
        },
        "1c03575f572b49e6b3c95b3bf34b4f99": {
          "model_module": "@jupyter-widgets/controls",
          "model_name": "ProgressStyleModel",
          "state": {
            "_view_name": "StyleView",
            "_model_name": "ProgressStyleModel",
            "description_width": "initial",
            "_view_module": "@jupyter-widgets/base",
            "_model_module_version": "1.5.0",
            "_view_count": null,
            "_view_module_version": "1.2.0",
            "bar_color": null,
            "_model_module": "@jupyter-widgets/controls"
          }
        },
        "bfb06b1ab83949f2991f19a2fcde3aef": {
          "model_module": "@jupyter-widgets/base",
          "model_name": "LayoutModel",
          "state": {
            "_view_name": "LayoutView",
            "grid_template_rows": null,
            "right": null,
            "justify_content": null,
            "_view_module": "@jupyter-widgets/base",
            "overflow": null,
            "_model_module_version": "1.2.0",
            "_view_count": null,
            "flex_flow": null,
            "width": null,
            "min_width": null,
            "border": null,
            "align_items": null,
            "bottom": null,
            "_model_module": "@jupyter-widgets/base",
            "top": null,
            "grid_column": null,
            "overflow_y": null,
            "overflow_x": null,
            "grid_auto_flow": null,
            "grid_area": null,
            "grid_template_columns": null,
            "flex": null,
            "_model_name": "LayoutModel",
            "justify_items": null,
            "grid_row": null,
            "max_height": null,
            "align_content": null,
            "visibility": null,
            "align_self": null,
            "height": null,
            "min_height": null,
            "padding": null,
            "grid_auto_rows": null,
            "grid_gap": null,
            "max_width": null,
            "order": null,
            "_view_module_version": "1.2.0",
            "grid_template_areas": null,
            "object_position": null,
            "object_fit": null,
            "grid_auto_columns": null,
            "margin": null,
            "display": null,
            "left": null
          }
        },
        "3914a3ebf19d405dbcbe61e428442292": {
          "model_module": "@jupyter-widgets/controls",
          "model_name": "DescriptionStyleModel",
          "state": {
            "_view_name": "StyleView",
            "_model_name": "DescriptionStyleModel",
            "description_width": "",
            "_view_module": "@jupyter-widgets/base",
            "_model_module_version": "1.5.0",
            "_view_count": null,
            "_view_module_version": "1.2.0",
            "_model_module": "@jupyter-widgets/controls"
          }
        },
        "4211af7abfdb4cf2befb5f6a34c08656": {
          "model_module": "@jupyter-widgets/base",
          "model_name": "LayoutModel",
          "state": {
            "_view_name": "LayoutView",
            "grid_template_rows": null,
            "right": null,
            "justify_content": null,
            "_view_module": "@jupyter-widgets/base",
            "overflow": null,
            "_model_module_version": "1.2.0",
            "_view_count": null,
            "flex_flow": null,
            "width": null,
            "min_width": null,
            "border": null,
            "align_items": null,
            "bottom": null,
            "_model_module": "@jupyter-widgets/base",
            "top": null,
            "grid_column": null,
            "overflow_y": null,
            "overflow_x": null,
            "grid_auto_flow": null,
            "grid_area": null,
            "grid_template_columns": null,
            "flex": null,
            "_model_name": "LayoutModel",
            "justify_items": null,
            "grid_row": null,
            "max_height": null,
            "align_content": null,
            "visibility": null,
            "align_self": null,
            "height": null,
            "min_height": null,
            "padding": null,
            "grid_auto_rows": null,
            "grid_gap": null,
            "max_width": null,
            "order": null,
            "_view_module_version": "1.2.0",
            "grid_template_areas": null,
            "object_position": null,
            "object_fit": null,
            "grid_auto_columns": null,
            "margin": null,
            "display": null,
            "left": null
          }
        }
      }
    }
  },
  "cells": [
    {
      "cell_type": "markdown",
      "metadata": {
        "id": "view-in-github",
        "colab_type": "text"
      },
      "source": [
        "<a href=\"https://colab.research.google.com/github/binodmathews93/GUVI-DeepLearning/blob/main/PyTorchCNN.ipynb\" target=\"_parent\"><img src=\"https://colab.research.google.com/assets/colab-badge.svg\" alt=\"Open In Colab\"/></a>"
      ]
    },
    {
      "cell_type": "code",
      "metadata": {
        "id": "ebTDFe6qZOS6"
      },
      "source": [
        "import torch\n",
        "import matplotlib.pyplot as plt\n",
        "import numpy as np"
      ],
      "execution_count": 1,
      "outputs": []
    },
    {
      "cell_type": "markdown",
      "metadata": {
        "id": "v3RZSgGLO9iY"
      },
      "source": [
        "## Data loading"
      ]
    },
    {
      "cell_type": "code",
      "metadata": {
        "id": "fOgFtnl2ZXsx",
        "colab": {
          "base_uri": "https://localhost:8080/",
          "height": 100,
          "referenced_widgets": [
            "f7305d0811244bc386a28e56e566a256",
            "9d78ea3277834d08aed21b92b39c4ea1",
            "e743565b17a74547a93c9017d3f1d1b8",
            "7cfb666d5a304c958e9008f81c0d9fee",
            "1c03575f572b49e6b3c95b3bf34b4f99",
            "bfb06b1ab83949f2991f19a2fcde3aef",
            "3914a3ebf19d405dbcbe61e428442292",
            "4211af7abfdb4cf2befb5f6a34c08656"
          ]
        },
        "outputId": "37c12d72-987c-4da6-81c7-6c5d488df33a"
      },
      "source": [
        "import torchvision\n",
        "import torchvision.transforms as transforms\n",
        "trainset = torchvision.datasets.CIFAR10(root='./data', train=True, \n",
        "                                        download=True, \n",
        "                                        transform=transforms.ToTensor())"
      ],
      "execution_count": 2,
      "outputs": [
        {
          "output_type": "stream",
          "text": [
            "Downloading https://www.cs.toronto.edu/~kriz/cifar-10-python.tar.gz to ./data/cifar-10-python.tar.gz\n"
          ],
          "name": "stdout"
        },
        {
          "output_type": "display_data",
          "data": {
            "application/vnd.jupyter.widget-view+json": {
              "model_id": "f7305d0811244bc386a28e56e566a256",
              "version_minor": 0,
              "version_major": 2
            },
            "text/plain": [
              "HBox(children=(FloatProgress(value=0.0, max=170498071.0), HTML(value='')))"
            ]
          },
          "metadata": {
            "tags": []
          }
        },
        {
          "output_type": "stream",
          "text": [
            "\n",
            "Extracting ./data/cifar-10-python.tar.gz to ./data\n"
          ],
          "name": "stdout"
        }
      ]
    },
    {
      "cell_type": "code",
      "metadata": {
        "id": "tjT-1-Uba1n-"
      },
      "source": [
        "classes = ('plane', 'car', 'bird', 'cat', 'deer', 'dog', 'frog', 'horse', 'ship', 'truck')"
      ],
      "execution_count": 3,
      "outputs": []
    },
    {
      "cell_type": "code",
      "metadata": {
        "id": "dpU3_h-JaFi_"
      },
      "source": [
        "trainloader = torch.utils.data.DataLoader(trainset, batch_size=4, shuffle=True)"
      ],
      "execution_count": 4,
      "outputs": []
    },
    {
      "cell_type": "code",
      "metadata": {
        "id": "TGkggskRaXhz",
        "colab": {
          "base_uri": "https://localhost:8080/"
        },
        "outputId": "aa3314a6-3efa-4ffa-9ee7-a70fccfd43cb"
      },
      "source": [
        "dataiter = iter(trainloader)\n",
        "images, labels = dataiter.next()\n",
        "\n",
        "print(images.shape)\n",
        "\n",
        "print(images[1].shape)\n",
        "print(labels[1].item())"
      ],
      "execution_count": 5,
      "outputs": [
        {
          "output_type": "stream",
          "text": [
            "torch.Size([4, 3, 32, 32])\n",
            "torch.Size([3, 32, 32])\n",
            "5\n"
          ],
          "name": "stdout"
        }
      ]
    },
    {
      "cell_type": "markdown",
      "metadata": {
        "id": "bQTsI03XPGId"
      },
      "source": [
        "## Visualise data"
      ]
    },
    {
      "cell_type": "code",
      "metadata": {
        "id": "RMLgzgf8PtN9",
        "colab": {
          "base_uri": "https://localhost:8080/"
        },
        "outputId": "846344de-2dc3-43a7-e8fe-c2f282b12a0a"
      },
      "source": [
        "img = images[1]\n",
        "print(type(img))"
      ],
      "execution_count": 6,
      "outputs": [
        {
          "output_type": "stream",
          "text": [
            "<class 'torch.Tensor'>\n"
          ],
          "name": "stdout"
        }
      ]
    },
    {
      "cell_type": "code",
      "metadata": {
        "id": "mXeB_gG9QIIW",
        "colab": {
          "base_uri": "https://localhost:8080/"
        },
        "outputId": "ea3c06c7-e3a3-42ca-ba65-7f1e829d98a4"
      },
      "source": [
        "npimg = img.numpy()\n",
        "print(npimg.shape)"
      ],
      "execution_count": 7,
      "outputs": [
        {
          "output_type": "stream",
          "text": [
            "(3, 32, 32)\n"
          ],
          "name": "stdout"
        }
      ]
    },
    {
      "cell_type": "code",
      "metadata": {
        "id": "T7MfJdNAQKmy",
        "colab": {
          "base_uri": "https://localhost:8080/"
        },
        "outputId": "b8a12e4d-c099-4bb9-e713-903afdcca626"
      },
      "source": [
        "npimg = np.transpose(npimg, (1, 2, 0))\n",
        "print(npimg.shape)"
      ],
      "execution_count": 8,
      "outputs": [
        {
          "output_type": "stream",
          "text": [
            "(32, 32, 3)\n"
          ],
          "name": "stdout"
        }
      ]
    },
    {
      "cell_type": "code",
      "metadata": {
        "id": "Xjh0IJNIQS4G",
        "colab": {
          "base_uri": "https://localhost:8080/",
          "height": 105
        },
        "outputId": "2940d89d-abb3-4259-a70e-bd38e93aa7f3"
      },
      "source": [
        "plt.figure(figsize = (1,1))\n",
        "plt.imshow(npimg)\n",
        "plt.show()"
      ],
      "execution_count": 9,
      "outputs": [
        {
          "output_type": "display_data",
          "data": {
            "image/png": "[encoded data removed]",
            "text/plain": [
              "<Figure size 72x72 with 1 Axes>"
            ]
          },
          "metadata": {
            "tags": [],
            "needs_background": "light"
          }
        }
      ]
    },
    {
      "cell_type": "code",
      "metadata": {
        "id": "ItDj5P3xZrX3"
      },
      "source": [
        "def imshow(img):\n",
        "    npimg = img.numpy()\n",
        "    plt.imshow(np.transpose(npimg, (1, 2, 0)))\n",
        "    plt.show()"
      ],
      "execution_count": 10,
      "outputs": []
    },
    {
      "cell_type": "code",
      "metadata": {
        "id": "vX2OhQjVhFVT",
        "colab": {
          "base_uri": "https://localhost:8080/",
          "height": 155
        },
        "outputId": "92127b5e-3a02-4143-a135-80115f069d6f"
      },
      "source": [
        "imshow(torchvision.utils.make_grid(images))\n",
        "print(' '.join(classes[labels[j]] for j in range(4)))"
      ],
      "execution_count": 11,
      "outputs": [
        {
          "output_type": "display_data",
          "data": {
            "image/png": "[encoded data removed]",
            "text/plain": [
              "<Figure size 432x288 with 1 Axes>"
            ]
          },
          "metadata": {
            "tags": [],
            "needs_background": "light"
          }
        },
        {
          "output_type": "stream",
          "text": [
            "deer dog truck dog\n"
          ],
          "name": "stdout"
        }
      ]
    },
    {
      "cell_type": "markdown",
      "metadata": {
        "id": "KIP5NFfgQfNo"
      },
      "source": [
        "## Single Convolutional Layer"
      ]
    },
    {
      "cell_type": "code",
      "metadata": {
        "id": "rehaPwlqaapX"
      },
      "source": [
        "import torch.nn as nn\n",
        "\n",
        "class FirstCNN(nn.Module):\n",
        "    def __init__(self): \n",
        "        super(FirstCNN, self).__init__()\n",
        "        self.conv1 = nn.Conv2d(3, 16, 3, padding=(1,1), stride=(2,2)) # padding=(1,1), stride=(2,2))\n",
        "        \n",
        "    def forward(self, x):\n",
        "        x = self.conv1(x)\n",
        "        return x"
      ],
      "execution_count": 12,
      "outputs": []
    },
    {
      "cell_type": "code",
      "metadata": {
        "id": "Gj33mJuCg8w-"
      },
      "source": [
        "net = FirstCNN()"
      ],
      "execution_count": 13,
      "outputs": []
    },
    {
      "cell_type": "code",
      "metadata": {
        "id": "BnAWY2-qg9jR",
        "colab": {
          "base_uri": "https://localhost:8080/"
        },
        "outputId": "483912ea-5f61-4e0b-8db3-d8f70c3df393"
      },
      "source": [
        "out = net(images)\n",
        "out.shape"
      ],
      "execution_count": 14,
      "outputs": [
        {
          "output_type": "execute_result",
          "data": {
            "text/plain": [
              "torch.Size([4, 16, 16, 16])"
            ]
          },
          "metadata": {
            "tags": []
          },
          "execution_count": 14
        }
      ]
    },
    {
      "cell_type": "code",
      "metadata": {
        "id": "ynP7midTjfIn",
        "colab": {
          "base_uri": "https://localhost:8080/"
        },
        "outputId": "9ae28a23-18a8-455a-dbc7-4d6564c108cb"
      },
      "source": [
        "for param in net.parameters():\n",
        "    print(param.shape)"
      ],
      "execution_count": 15,
      "outputs": [
        {
          "output_type": "stream",
          "text": [
            "torch.Size([16, 3, 3, 3])\n",
            "torch.Size([16])\n"
          ],
          "name": "stdout"
        }
      ]
    },
    {
      "cell_type": "code",
      "metadata": {
        "id": "aBYgoxzEia-D",
        "colab": {
          "base_uri": "https://localhost:8080/"
        },
        "outputId": "39f65e3f-da98-4e17-f01c-eccb0d6f430b"
      },
      "source": [
        "out1 = out[0, 0, :, :].detach().numpy()\n",
        "print(out1.shape)"
      ],
      "execution_count": 16,
      "outputs": [
        {
          "output_type": "stream",
          "text": [
            "(16, 16)\n"
          ],
          "name": "stdout"
        }
      ]
    },
    {
      "cell_type": "code",
      "metadata": {
        "id": "FG8Mqfw5i7hP",
        "colab": {
          "base_uri": "https://localhost:8080/",
          "height": 265
        },
        "outputId": "b2fe5331-ec14-48b1-af3a-ce1f1c19e942"
      },
      "source": [
        "plt.imshow(out[0, 0, :, :].detach().numpy())\n",
        "plt.show()"
      ],
      "execution_count": 17,
      "outputs": [
        {
          "output_type": "display_data",
          "data": {
            "image/png": "[encoded data removed]",
            "text/plain": [
              "<Figure size 432x288 with 1 Axes>"
            ]
          },
          "metadata": {
            "tags": [],
            "needs_background": "light"
          }
        }
      ]
    },
    {
      "cell_type": "markdown",
      "metadata": {
        "id": "Y6nSsRqRQ3sJ"
      },
      "source": [
        "## Deep Convolutional Network"
      ]
    },
    {
      "cell_type": "code",
      "metadata": {
        "id": "YtwIDsUUjH9h"
      },
      "source": [
        "class FirstCNN_v2(nn.Module):\n",
        "    def __init__(self): \n",
        "        super(FirstCNN_v2, self).__init__()\n",
        "        self.model = nn.Sequential(\n",
        "            nn.Conv2d(3, 8, 3),   # (N, 3, 32, 32) -> (N, 8, 30, 30)\n",
        "            nn.Conv2d(8, 16, 3)   # (N, 8, 30, 30) -> (N, 16, 28, 28)\n",
        "        )\n",
        "        \n",
        "    def forward(self, x):\n",
        "        x = self.model(x)\n",
        "        return x"
      ],
      "execution_count": 18,
      "outputs": []
    },
    {
      "cell_type": "code",
      "metadata": {
        "id": "1TlJtTMoliU3",
        "colab": {
          "base_uri": "https://localhost:8080/"
        },
        "outputId": "6cfeb0d1-7f35-40cb-82d7-3e73a2290172"
      },
      "source": [
        "net = FirstCNN_v2()\n",
        "out = net(images)\n",
        "out.shape"
      ],
      "execution_count": 19,
      "outputs": [
        {
          "output_type": "execute_result",
          "data": {
            "text/plain": [
              "torch.Size([4, 16, 28, 28])"
            ]
          },
          "metadata": {
            "tags": []
          },
          "execution_count": 19
        }
      ]
    },
    {
      "cell_type": "code",
      "metadata": {
        "id": "jpPuOr1TlilH",
        "colab": {
          "base_uri": "https://localhost:8080/",
          "height": 282
        },
        "outputId": "f083e60e-6c37-48e0-962f-7e38b13f3484"
      },
      "source": [
        "plt.imshow(out[0, 0, :, :].detach().numpy())"
      ],
      "execution_count": 20,
      "outputs": [
        {
          "output_type": "execute_result",
          "data": {
            "text/plain": [
              "<matplotlib.image.AxesImage at 0x7febb4460b90>"
            ]
          },
          "metadata": {
            "tags": []
          },
          "execution_count": 20
        },
        {
          "output_type": "display_data",
          "data": {
            "image/png": "[encoded data removed]",
            "text/plain": [
              "<Figure size 432x288 with 1 Axes>"
            ]
          },
          "metadata": {
            "tags": [],
            "needs_background": "light"
          }
        }
      ]
    },
    {
      "cell_type": "code",
      "metadata": {
        "id": "5GnYimnTmFyi"
      },
      "source": [
        "class FirstCNN_v3(nn.Module):\n",
        "    def __init__(self): \n",
        "        super(FirstCNN_v3, self).__init__()\n",
        "        self.model = nn.Sequential(\n",
        "            nn.Conv2d(3, 6, 5),          # (N, 3, 32, 32) -> (N, 6, 28, 28)\n",
        "            nn.AvgPool2d(2, stride=2),   # (N, 6, 28, 28) -> (N, 6, 14, 14)\n",
        "            nn.Conv2d(6, 16, 5),         # (N, 6, 14, 14) -> (N, 16, 10, 10)\n",
        "            nn.AvgPool2d(2, stride=2)    # (N, 16, 10, 10) -> (N, 16, 5, 5)\n",
        "        )\n",
        "        \n",
        "    def forward(self, x):\n",
        "        x = self.model(x)\n",
        "        return x"
      ],
      "execution_count": 21,
      "outputs": []
    },
    {
      "cell_type": "code",
      "metadata": {
        "id": "ldq1anrdmwox",
        "colab": {
          "base_uri": "https://localhost:8080/"
        },
        "outputId": "379fdfea-c30b-4515-bd19-4a0f91e1f0be"
      },
      "source": [
        "net = FirstCNN_v3()\n",
        "out = net(images)\n",
        "out.shape"
      ],
      "execution_count": 22,
      "outputs": [
        {
          "output_type": "execute_result",
          "data": {
            "text/plain": [
              "torch.Size([4, 16, 5, 5])"
            ]
          },
          "metadata": {
            "tags": []
          },
          "execution_count": 22
        }
      ]
    },
    {
      "cell_type": "code",
      "metadata": {
        "id": "tOnUd7TyVunB",
        "colab": {
          "base_uri": "https://localhost:8080/",
          "height": 282
        },
        "outputId": "045cc7dd-22d7-4c4e-c8b2-e4a5b981954e"
      },
      "source": [
        "plt.imshow(out[0, 0, :, :].detach().numpy())"
      ],
      "execution_count": 23,
      "outputs": [
        {
          "output_type": "execute_result",
          "data": {
            "text/plain": [
              "<matplotlib.image.AxesImage at 0x7febb469df50>"
            ]
          },
          "metadata": {
            "tags": []
          },
          "execution_count": 23
        },
        {
          "output_type": "display_data",
          "data": {
            "image/png": "[encoded data removed]",
            "text/plain": [
              "<Figure size 432x288 with 1 Axes>"
            ]
          },
          "metadata": {
            "tags": [],
            "needs_background": "light"
          }
        }
      ]
    },
    {
      "cell_type": "markdown",
      "metadata": {
        "id": "vymNQCrDQ7dM"
      },
      "source": [
        "## LeNet"
      ]
    },
    {
      "cell_type": "code",
      "metadata": {
        "id": "npS8lRGT15bx"
      },
      "source": [
        "class LeNet(nn.Module):\n",
        "    def __init__(self): \n",
        "        super(LeNet, self).__init__()\n",
        "        self.cnn_model = nn.Sequential(\n",
        "            nn.Conv2d(3, 6, 5),         # (N, 3, 32, 32) -> (N,  6, 28, 28)\n",
        "            nn.Tanh(),\n",
        "            nn.AvgPool2d(2, stride=2),  # (N, 6, 28, 28) -> (N,  6, 14, 14)\n",
        "            nn.Conv2d(6, 16, 5),        # (N, 6, 14, 14) -> (N, 16, 10, 10)  \n",
        "            nn.Tanh(),\n",
        "            nn.AvgPool2d(2, stride=2)   # (N,16, 10, 10) -> (N, 16, 5, 5)\n",
        "        )\n",
        "        self.fc_model = nn.Sequential(\n",
        "            nn.Linear(400,120),         # (N, 400) -> (N, 120)\n",
        "            nn.Tanh(),\n",
        "            nn.Linear(120,84),          # (N, 120) -> (N, 84)\n",
        "            nn.Tanh(),\n",
        "            nn.Linear(84,10)            # (N, 84)  -> (N, 10)\n",
        "        )\n",
        "        \n",
        "    def forward(self, x):\n",
        "        print(x.shape)\n",
        "        x = self.cnn_model(x)\n",
        "        print(x.shape)\n",
        "        x = x.view(x.size(0), -1)\n",
        "        print(x.shape)\n",
        "        x = self.fc_model(x)\n",
        "        print(x.shape)\n",
        "        return x"
      ],
      "execution_count": 24,
      "outputs": []
    },
    {
      "cell_type": "code",
      "metadata": {
        "id": "hruUII0sRIO4",
        "colab": {
          "base_uri": "https://localhost:8080/"
        },
        "outputId": "9f8a1a5c-9b87-42e1-e651-8c58a769ec72"
      },
      "source": [
        "net = LeNet()\n",
        "out = net(images)"
      ],
      "execution_count": 25,
      "outputs": [
        {
          "output_type": "stream",
          "text": [
            "torch.Size([4, 3, 32, 32])\n",
            "torch.Size([4, 16, 5, 5])\n",
            "torch.Size([4, 400])\n",
            "torch.Size([4, 10])\n"
          ],
          "name": "stdout"
        }
      ]
    },
    {
      "cell_type": "code",
      "metadata": {
        "id": "2E66qlEzRapT",
        "colab": {
          "base_uri": "https://localhost:8080/"
        },
        "outputId": "84ccd9fc-2799-4b04-efed-dcad6fb811f1"
      },
      "source": [
        "print(out)"
      ],
      "execution_count": 26,
      "outputs": [
        {
          "output_type": "stream",
          "text": [
            "tensor([[ 0.0105, -0.0116,  0.1408, -0.0843, -0.0925,  0.0633, -0.0601, -0.0282,\n",
            "         -0.0907,  0.1032],\n",
            "        [ 0.0054, -0.0213,  0.1341, -0.0994, -0.0855,  0.0681, -0.0804, -0.0352,\n",
            "         -0.0877,  0.1016],\n",
            "        [ 0.0211, -0.0161,  0.1404, -0.0824, -0.0828,  0.0643, -0.0620, -0.0240,\n",
            "         -0.1026,  0.0934],\n",
            "        [ 0.0027, -0.0327,  0.1401, -0.0775, -0.1048,  0.0501, -0.0910, -0.0499,\n",
            "         -0.0818,  0.0920]], grad_fn=<AddmmBackward>)\n"
          ],
          "name": "stdout"
        }
      ]
    },
    {
      "cell_type": "code",
      "metadata": {
        "id": "ZiYvD0l7Rhma",
        "colab": {
          "base_uri": "https://localhost:8080/"
        },
        "outputId": "cf9f38be-0fdc-40a6-b1b8-d3eb47d4f34c"
      },
      "source": [
        "max_values, pred_class = torch.max(out.data, 1)\n",
        "print(pred_class)"
      ],
      "execution_count": 27,
      "outputs": [
        {
          "output_type": "stream",
          "text": [
            "tensor([2, 2, 2, 2])\n"
          ],
          "name": "stdout"
        }
      ]
    },
    {
      "cell_type": "markdown",
      "metadata": {
        "id": "lOQGdybZRQqk"
      },
      "source": [
        "## Training LeNet"
      ]
    },
    {
      "cell_type": "code",
      "metadata": {
        "id": "ylTZodUuV1eb"
      },
      "source": [
        "class LeNet(nn.Module):\n",
        "    def __init__(self): \n",
        "        super(LeNet, self).__init__()\n",
        "        self.cnn_model = nn.Sequential(\n",
        "            nn.Conv2d(3, 6, 5),         # (N, 3, 32, 32) -> (N,  6, 28, 28)\n",
        "            nn.Tanh(),\n",
        "            nn.AvgPool2d(2, stride=2),  # (N, 6, 28, 28) -> (N,  6, 14, 14)\n",
        "            nn.Conv2d(6, 16, 5),        # (N, 6, 14, 14) -> (N, 16, 10, 10)  \n",
        "            nn.Tanh(),\n",
        "            nn.AvgPool2d(2, stride=2)   # (N,16, 10, 10) -> (N, 16, 5, 5)\n",
        "        )\n",
        "        self.fc_model = nn.Sequential(\n",
        "            nn.Linear(400,120),         # (N, 400) -> (N, 120)\n",
        "            nn.Tanh(),\n",
        "            nn.Linear(120,84),          # (N, 120) -> (N, 84)\n",
        "            nn.Tanh(),\n",
        "            nn.Linear(84,10)            # (N, 84)  -> (N, 10)\n",
        "        )\n",
        "        \n",
        "    def forward(self, x):\n",
        "        x = self.cnn_model(x)\n",
        "        x = x.view(x.size(0), -1)\n",
        "        x = self.fc_model(x)\n",
        "        return x"
      ],
      "execution_count": 28,
      "outputs": []
    },
    {
      "cell_type": "code",
      "metadata": {
        "id": "GOWc4kya8UDC",
        "colab": {
          "base_uri": "https://localhost:8080/"
        },
        "outputId": "9efb134a-c513-405e-aeb2-4d33722eec98"
      },
      "source": [
        "batch_size = 128\n",
        "trainset = torchvision.datasets.CIFAR10(root='./data', train=True, download=True, transform=transforms.ToTensor())\n",
        "trainloader = torch.utils.data.DataLoader(trainset, batch_size=batch_size, shuffle=True)\n",
        "testset = torchvision.datasets.CIFAR10(root='./data', train=False, download=True, transform=transforms.ToTensor())\n",
        "testloader = torch.utils.data.DataLoader(testset, batch_size=batch_size, shuffle=False)"
      ],
      "execution_count": 29,
      "outputs": [
        {
          "output_type": "stream",
          "text": [
            "Files already downloaded and verified\n",
            "Files already downloaded and verified\n"
          ],
          "name": "stdout"
        }
      ]
    },
    {
      "cell_type": "code",
      "metadata": {
        "id": "x9ehrnaHHZoj"
      },
      "source": [
        "def evaluation(dataloader):\n",
        "    total, correct = 0, 0\n",
        "    for data in dataloader:\n",
        "        inputs, labels = data\n",
        "        outputs = net(inputs)\n",
        "        _, pred = torch.max(outputs.data, 1)\n",
        "        total += labels.size(0)\n",
        "        correct += (pred == labels).sum().item()\n",
        "    return 100 * correct / total"
      ],
      "execution_count": 30,
      "outputs": []
    },
    {
      "cell_type": "code",
      "metadata": {
        "id": "3pYTvSvD2TwM"
      },
      "source": [
        "net = LeNet()"
      ],
      "execution_count": 31,
      "outputs": []
    },
    {
      "cell_type": "code",
      "metadata": {
        "id": "2T6Wzz7J2xq3"
      },
      "source": [
        "import torch.optim as optim\n",
        "\n",
        "loss_fn = nn.CrossEntropyLoss()\n",
        "opt = optim.Adam(net.parameters())"
      ],
      "execution_count": 32,
      "outputs": []
    },
    {
      "cell_type": "code",
      "metadata": {
        "id": "a0LnxsXi6Cgt",
        "colab": {
          "base_uri": "https://localhost:8080/",
          "height": 571
        },
        "outputId": "02b9c991-d3f5-4b7f-b90b-888515d7343e"
      },
      "source": [
        "%%time\n",
        "loss_arr = []\n",
        "loss_epoch_arr = []\n",
        "max_epochs = 16\n",
        "\n",
        "for epoch in range(max_epochs):\n",
        "\n",
        "    for i, data in enumerate(trainloader, 0):\n",
        "\n",
        "        inputs, labels = data\n",
        "\n",
        "        opt.zero_grad()\n",
        "\n",
        "        outputs = net(inputs)\n",
        "        loss = loss_fn(outputs, labels)\n",
        "        loss.backward()\n",
        "        opt.step()\n",
        "        \n",
        "        loss_arr.append(loss.item())\n",
        "        \n",
        "    loss_epoch_arr.append(loss.item())\n",
        "        \n",
        "    print('Epoch: %d/%d, Test acc: %0.2f, Train acc: %0.2f' % (epoch, max_epochs, evaluation(testloader), evaluation(trainloader)))\n",
        "    \n",
        "    \n",
        "plt.plot(loss_epoch_arr)\n",
        "plt.show()"
      ],
      "execution_count": 33,
      "outputs": [
        {
          "output_type": "stream",
          "text": [
            "Epoch: 0/16, Test acc: 38.13, Train acc: 38.42\n",
            "Epoch: 1/16, Test acc: 43.12, Train acc: 43.39\n",
            "Epoch: 2/16, Test acc: 47.54, Train acc: 47.73\n",
            "Epoch: 3/16, Test acc: 49.70, Train acc: 50.18\n",
            "Epoch: 4/16, Test acc: 50.98, Train acc: 52.61\n",
            "Epoch: 5/16, Test acc: 52.16, Train acc: 54.31\n",
            "Epoch: 6/16, Test acc: 53.20, Train acc: 55.74\n",
            "Epoch: 7/16, Test acc: 52.63, Train acc: 56.13\n",
            "Epoch: 8/16, Test acc: 53.35, Train acc: 57.33\n",
            "Epoch: 9/16, Test acc: 54.09, Train acc: 59.00\n",
            "Epoch: 10/16, Test acc: 54.87, Train acc: 60.19\n",
            "Epoch: 11/16, Test acc: 55.13, Train acc: 61.37\n",
            "Epoch: 12/16, Test acc: 55.16, Train acc: 61.97\n",
            "Epoch: 13/16, Test acc: 54.77, Train acc: 62.11\n",
            "Epoch: 14/16, Test acc: 55.65, Train acc: 63.94\n",
            "Epoch: 15/16, Test acc: 56.04, Train acc: 65.05\n"
          ],
          "name": "stdout"
        },
        {
          "output_type": "display_data",
          "data": {
            "image/png": "[encoded data removed]",
            "text/plain": [
              "<Figure size 432x288 with 1 Axes>"
            ]
          },
          "metadata": {
            "tags": [],
            "needs_background": "light"
          }
        },
        {
          "output_type": "stream",
          "text": [
            "CPU times: user 6min 23s, sys: 3.45 s, total: 6min 26s\n",
            "Wall time: 6min 25s\n"
          ],
          "name": "stdout"
        }
      ]
    },
    {
      "cell_type": "markdown",
      "metadata": {
        "id": "ECHeB_BUTHl5"
      },
      "source": [
        "## Move to GPU"
      ]
    },
    {
      "cell_type": "code",
      "metadata": {
        "id": "Mj0-Y6zJTJ5z",
        "colab": {
          "base_uri": "https://localhost:8080/"
        },
        "outputId": "dcf9373f-4e6d-4e91-f1b5-895969daeb07"
      },
      "source": [
        "device = torch.device(\"cuda:0\" if torch.cuda.is_available() else \"cpu\")\n",
        "print(device)"
      ],
      "execution_count": 34,
      "outputs": [
        {
          "output_type": "stream",
          "text": [
            "cuda:0\n"
          ],
          "name": "stdout"
        }
      ]
    },
    {
      "cell_type": "code",
      "metadata": {
        "id": "n4fHbz2fTNpR"
      },
      "source": [
        "def evaluation(dataloader):\n",
        "    total, correct = 0, 0\n",
        "    for data in dataloader:\n",
        "        inputs, labels = data\n",
        "        inputs, labels = inputs.to(device), labels.to(device)\n",
        "        outputs = net(inputs)\n",
        "        _, pred = torch.max(outputs.data, 1)\n",
        "        total += labels.size(0)\n",
        "        correct += (pred == labels).sum().item()\n",
        "    return 100 * correct / total"
      ],
      "execution_count": 35,
      "outputs": []
    },
    {
      "cell_type": "code",
      "metadata": {
        "id": "mnxecsfVTQH-"
      },
      "source": [
        "net = LeNet().to(device)\n",
        "loss_fn = nn.CrossEntropyLoss()\n",
        "opt = optim.Adam(net.parameters())"
      ],
      "execution_count": 36,
      "outputs": []
    },
    {
      "cell_type": "code",
      "metadata": {
        "id": "i9t3Js-XTWkf",
        "colab": {
          "base_uri": "https://localhost:8080/"
        },
        "outputId": "9a3f9609-2c02-4dd6-eba3-bb0959ce333b"
      },
      "source": [
        "%%time\n",
        "max_epochs = 16\n",
        "\n",
        "for epoch in range(max_epochs):\n",
        "\n",
        "    for i, data in enumerate(trainloader, 0):\n",
        "\n",
        "        inputs, labels = data\n",
        "        inputs, labels = inputs.to(device), labels.to(device)\n",
        "\n",
        "        opt.zero_grad()\n",
        "\n",
        "        outputs = net(inputs)\n",
        "        loss = loss_fn(outputs, labels)\n",
        "        loss.backward()\n",
        "        opt.step()\n",
        "        \n",
        "    print('Epoch: %d/%d' % (epoch, max_epochs))"
      ],
      "execution_count": 37,
      "outputs": [
        {
          "output_type": "stream",
          "text": [
            "Epoch: 0/16\n",
            "Epoch: 1/16\n",
            "Epoch: 2/16\n",
            "Epoch: 3/16\n",
            "Epoch: 4/16\n",
            "Epoch: 5/16\n",
            "Epoch: 6/16\n",
            "Epoch: 7/16\n",
            "Epoch: 8/16\n",
            "Epoch: 9/16\n",
            "Epoch: 10/16\n",
            "Epoch: 11/16\n",
            "Epoch: 12/16\n",
            "Epoch: 13/16\n",
            "Epoch: 14/16\n",
            "Epoch: 15/16\n",
            "CPU times: user 1min 20s, sys: 604 ms, total: 1min 21s\n",
            "Wall time: 1min 21s\n"
          ],
          "name": "stdout"
        }
      ]
    },
    {
      "cell_type": "code",
      "metadata": {
        "id": "1mao_iiQZVlE",
        "colab": {
          "base_uri": "https://localhost:8080/"
        },
        "outputId": "b3eb4269-cde1-477c-d3e5-f4113fa58e58"
      },
      "source": [
        "print('Test acc: %0.2f, Train acc: %0.2f' % (evaluation(testloader), evaluation(trainloader)))"
      ],
      "execution_count": 38,
      "outputs": [
        {
          "output_type": "stream",
          "text": [
            "Test acc: 55.62, Train acc: 65.15\n"
          ],
          "name": "stdout"
        }
      ]
    },
    {
      "cell_type": "markdown",
      "metadata": {
        "id": "Fq5T-KsjTEUQ"
      },
      "source": [
        "## Basic Visualisation"
      ]
    },
    {
      "cell_type": "code",
      "metadata": {
        "id": "LWfeXhrzSFSc",
        "colab": {
          "base_uri": "https://localhost:8080/",
          "height": 138
        },
        "outputId": "4621aac8-fc3d-4597-b535-0bea0f3dde46"
      },
      "source": [
        "imshow(torchvision.utils.make_grid(images))"
      ],
      "execution_count": 39,
      "outputs": [
        {
          "output_type": "display_data",
          "data": {
            "image/png": "[encoded data removed]",
            "text/plain": [
              "<Figure size 432x288 with 1 Axes>"
            ]
          },
          "metadata": {
            "tags": [],
            "needs_background": "light"
          }
        }
      ]
    },
    {
      "cell_type": "code",
      "metadata": {
        "id": "DiorUKc-LnWx"
      },
      "source": [
        "net = net.to('cpu')"
      ],
      "execution_count": 40,
      "outputs": []
    },
    {
      "cell_type": "code",
      "metadata": {
        "id": "luNsBRCAKQC_",
        "colab": {
          "base_uri": "https://localhost:8080/"
        },
        "outputId": "d55d5c95-833f-49c5-fba9-95fe177a9779"
      },
      "source": [
        "out = net(images)\n",
        "print(out.shape)"
      ],
      "execution_count": 41,
      "outputs": [
        {
          "output_type": "stream",
          "text": [
            "torch.Size([4, 10])\n"
          ],
          "name": "stdout"
        }
      ]
    },
    {
      "cell_type": "code",
      "metadata": {
        "id": "-38nfaIUKSeF",
        "colab": {
          "base_uri": "https://localhost:8080/"
        },
        "outputId": "6a5fc0a8-6e51-40de-ddc0-0ac4af53a39e"
      },
      "source": [
        "out = net.cnn_model[0](images)\n",
        "out.shape"
      ],
      "execution_count": 42,
      "outputs": [
        {
          "output_type": "execute_result",
          "data": {
            "text/plain": [
              "torch.Size([4, 6, 28, 28])"
            ]
          },
          "metadata": {
            "tags": []
          },
          "execution_count": 42
        }
      ]
    },
    {
      "cell_type": "code",
      "metadata": {
        "id": "Gqj4_qG1KYcO",
        "colab": {
          "base_uri": "https://localhost:8080/",
          "height": 159
        },
        "outputId": "80ac40dc-8650-45cd-c4f2-313090ff9bdb"
      },
      "source": [
        "image_id = 3\n",
        "plt.figure(figsize = (2,2))\n",
        "imshow(images[image_id,])"
      ],
      "execution_count": 43,
      "outputs": [
        {
          "output_type": "display_data",
          "data": {
            "image/png": "[encoded data removed]",
            "text/plain": [
              "<Figure size 144x144 with 1 Axes>"
            ]
          },
          "metadata": {
            "tags": [],
            "needs_background": "light"
          }
        }
      ]
    },
    {
      "cell_type": "code",
      "metadata": {
        "id": "19iXHHLitP2D",
        "colab": {
          "base_uri": "https://localhost:8080/",
          "height": 430
        },
        "outputId": "1e92faff-f1e5-4e9c-f412-210b822c6de4"
      },
      "source": [
        "plt.figure(figsize = (6,6))\n",
        "plt.subplot(321)\n",
        "for i in range(6):\n",
        "    ax1 = plt.subplot(3, 2, i+1)\n",
        "    plt.imshow(out[image_id, i, :, :].detach().numpy(), cmap=\"binary\")\n",
        "plt.show()"
      ],
      "execution_count": 44,
      "outputs": [
        {
          "output_type": "stream",
          "text": [
            "/usr/local/lib/python3.7/dist-packages/ipykernel_launcher.py:4: MatplotlibDeprecationWarning: Adding an axes using the same arguments as a previous axes currently reuses the earlier instance.  In a future version, a new instance will always be created and returned.  Meanwhile, this warning can be suppressed, and the future behavior ensured, by passing a unique label to each axes instance.\n",
            "  after removing the cwd from sys.path.\n"
          ],
          "name": "stderr"
        },
        {
          "output_type": "display_data",
          "data": {
            "image/png": "[encoded data removed]",
            "text/plain": [
              "<Figure size 432x432 with 6 Axes>"
            ]
          },
          "metadata": {
            "tags": [],
            "needs_background": "light"
          }
        }
      ]
    },
    {
      "cell_type": "markdown",
      "metadata": {
        "id": "eARYa3OZexaC"
      },
      "source": [
        "## Using ReLU instead of Tanh"
      ]
    },
    {
      "cell_type": "code",
      "metadata": {
        "id": "EnMyNqhVwrgr"
      },
      "source": [
        "class LeNet_v2(nn.Module):\n",
        "    def __init__(self): \n",
        "        super(LeNet_v2, self).__init__()\n",
        "        self.cnn_model = nn.Sequential(\n",
        "            nn.Conv2d(3, 6, 5),         # (N, 3, 32, 32) -> (N,  6, 28, 28)\n",
        "            nn.ReLU(),\n",
        "            nn.AvgPool2d(2, stride=2),  # (N, 6, 28, 28) -> (N,  6, 14, 14)\n",
        "            nn.Conv2d(6, 16, 5),        # (N, 6, 14, 14) -> (N, 16, 10, 10)  \n",
        "            nn.ReLU(),\n",
        "            nn.AvgPool2d(2, stride=2)   # (N,16, 10, 10) -> (N, 16, 5, 5)\n",
        "        )\n",
        "        self.fc_model = nn.Sequential(\n",
        "            nn.Linear(400,120),         # (N, 400) -> (N, 120)\n",
        "            nn.ReLU(),\n",
        "            nn.Linear(120,84),          # (N, 120) -> (N, 84)\n",
        "            nn.ReLU(),\n",
        "            nn.Linear(84,10)            # (N, 84)  -> (N, 10)\n",
        "        )\n",
        "        \n",
        "    def forward(self, x):\n",
        "        x = self.cnn_model(x)\n",
        "        x = x.view(x.size(0), -1)\n",
        "        x = self.fc_model(x)\n",
        "        return x"
      ],
      "execution_count": 45,
      "outputs": []
    },
    {
      "cell_type": "code",
      "metadata": {
        "id": "yzKlzkW95pk4"
      },
      "source": [
        "def evaluation_v2(dataloader):\n",
        "    total, correct = 0, 0\n",
        "    for data in dataloader:\n",
        "        inputs, labels = data\n",
        "        inputs, labels = inputs.to(device), labels.to(device)\n",
        "        outputs = net_v2(inputs)\n",
        "        _, pred = torch.max(outputs.data, 1)\n",
        "        total += labels.size(0)\n",
        "        correct += (pred == labels).sum().item()\n",
        "    return 100 * correct / total"
      ],
      "execution_count": 46,
      "outputs": []
    },
    {
      "cell_type": "code",
      "metadata": {
        "id": "MRXKQd773C-T"
      },
      "source": [
        "net_v2 = LeNet_v2().to(device)\n",
        "opt = optim.Adam(net_v2.parameters(), weight_decay=0.01)"
      ],
      "execution_count": 47,
      "outputs": []
    },
    {
      "cell_type": "code",
      "metadata": {
        "colab": {
          "base_uri": "https://localhost:8080/",
          "height": 571
        },
        "id": "Vy0pqUnv3hlg",
        "outputId": "3daf93d2-6e56-4935-8177-11c7fc78382b"
      },
      "source": [
        "%%time\n",
        "loss_arr = []\n",
        "loss_epoch_arr = []\n",
        "max_epochs = 16\n",
        "\n",
        "for epoch in range(max_epochs):\n",
        "\n",
        "    for i, data in enumerate(trainloader, 0):\n",
        "\n",
        "        inputs, labels = data\n",
        "        inputs, labels = inputs.to(device), labels.to(device)\n",
        "\n",
        "        opt.zero_grad()\n",
        "\n",
        "        outputs = net_v2(inputs)\n",
        "        loss = loss_fn(outputs, labels)\n",
        "        loss.backward()\n",
        "        opt.step()\n",
        "        loss_arr.append(loss.item())\n",
        "    loss_epoch_arr.append(loss.item())\n",
        "        \n",
        "    print('Epoch: %d/%d, Test acc: %0.2f, Train acc: %0.2f' % (epoch, max_epochs, evaluation_v2(testloader), evaluation_v2(trainloader)))\n",
        "\n",
        "plt.plot(loss_epoch_arr)\n",
        "plt.show()"
      ],
      "execution_count": 48,
      "outputs": [
        {
          "output_type": "stream",
          "text": [
            "Epoch: 0/16, Test acc: 31.17, Train acc: 30.53\n",
            "Epoch: 1/16, Test acc: 37.96, Train acc: 37.42\n",
            "Epoch: 2/16, Test acc: 37.75, Train acc: 36.85\n",
            "Epoch: 3/16, Test acc: 39.79, Train acc: 39.38\n",
            "Epoch: 4/16, Test acc: 41.13, Train acc: 41.11\n",
            "Epoch: 5/16, Test acc: 43.07, Train acc: 42.86\n",
            "Epoch: 6/16, Test acc: 42.69, Train acc: 42.76\n",
            "Epoch: 7/16, Test acc: 44.65, Train acc: 44.31\n",
            "Epoch: 8/16, Test acc: 46.10, Train acc: 46.18\n",
            "Epoch: 9/16, Test acc: 45.74, Train acc: 46.04\n",
            "Epoch: 10/16, Test acc: 46.39, Train acc: 45.80\n",
            "Epoch: 11/16, Test acc: 47.10, Train acc: 46.92\n",
            "Epoch: 12/16, Test acc: 47.08, Train acc: 47.38\n",
            "Epoch: 13/16, Test acc: 48.37, Train acc: 48.70\n",
            "Epoch: 14/16, Test acc: 47.94, Train acc: 47.88\n",
            "Epoch: 15/16, Test acc: 47.81, Train acc: 48.00\n"
          ],
          "name": "stdout"
        },
        {
          "output_type": "display_data",
          "data": {
            "image/png": "[encoded data removed]",
            "text/plain": [
              "<Figure size 432x288 with 1 Axes>"
            ]
          },
          "metadata": {
            "tags": [],
            "needs_background": "light"
          }
        },
        {
          "output_type": "stream",
          "text": [
            "CPU times: user 2min 49s, sys: 2.18 s, total: 2min 51s\n",
            "Wall time: 2min 51s\n"
          ],
          "name": "stdout"
        }
      ]
    },
    {
      "cell_type": "markdown",
      "metadata": {
        "id": "7fF2lC1R_ZSE"
      },
      "source": [
        "##Using MNIST Dataset"
      ]
    },
    {
      "cell_type": "code",
      "metadata": {
        "id": "_i6y_7M7_f-0"
      },
      "source": [
        "batch_size = 128\n",
        "trainset = torchvision.datasets.MNIST(root='./data', train=True, download=True, transform=transforms.ToTensor())\n",
        "trainloader = torch.utils.data.DataLoader(trainset, batch_size=batch_size, shuffle=True)\n",
        "testset = torchvision.datasets.MNIST(root='./data', train=False, download=True, transform=transforms.ToTensor())\n",
        "testloader = torch.utils.data.DataLoader(testset, batch_size=batch_size, shuffle=False)"
      ],
      "execution_count": 57,
      "outputs": []
    },
    {
      "cell_type": "code",
      "metadata": {
        "colab": {
          "base_uri": "https://localhost:8080/"
        },
        "id": "s3pSQ4p8CP-A",
        "outputId": "02ea547e-1d45-4e50-f4e8-988e499e621d"
      },
      "source": [
        "dataiter = iter(trainloader)\n",
        "images, labels = dataiter.next()\n",
        "\n",
        "print(images.shape)\n",
        "\n",
        "print(images[1].shape)\n",
        "print(labels[1].item())"
      ],
      "execution_count": 58,
      "outputs": [
        {
          "output_type": "stream",
          "text": [
            "torch.Size([128, 1, 28, 28])\n",
            "torch.Size([1, 28, 28])\n",
            "4\n"
          ],
          "name": "stdout"
        }
      ]
    },
    {
      "cell_type": "code",
      "metadata": {
        "colab": {
          "base_uri": "https://localhost:8080/",
          "height": 371
        },
        "id": "kB4Xk0FKCcKo",
        "outputId": "8cd72cf7-4973-48f0-bb05-409210001463"
      },
      "source": [
        "imshow(torchvision.utils.make_grid(images))\n",
        "#print(' '.join(classes[labels[j]] for j in range(4)))\n",
        "print(labels)"
      ],
      "execution_count": 59,
      "outputs": [
        {
          "output_type": "display_data",
          "data": {
            "image/png": "[encoded data removed]",
            "text/plain": [
              "<Figure size 432x288 with 1 Axes>"
            ]
          },
          "metadata": {
            "tags": [],
            "needs_background": "light"
          }
        },
        {
          "output_type": "stream",
          "text": [
            "tensor([8, 4, 2, 1, 5, 4, 6, 1, 9, 0, 8, 0, 9, 7, 8, 0, 4, 8, 7, 9, 5, 5, 7, 1,\n",
            "        5, 2, 7, 7, 3, 3, 5, 8, 7, 7, 1, 1, 0, 6, 4, 1, 9, 3, 0, 4, 7, 8, 6, 4,\n",
            "        7, 0, 4, 2, 2, 3, 8, 0, 2, 5, 2, 1, 4, 7, 4, 8, 4, 9, 5, 5, 5, 0, 0, 1,\n",
            "        8, 3, 6, 6, 4, 9, 9, 7, 3, 9, 8, 3, 3, 3, 7, 8, 3, 7, 9, 4, 4, 2, 1, 2,\n",
            "        1, 5, 4, 5, 1, 1, 5, 2, 8, 0, 6, 7, 5, 3, 2, 5, 1, 9, 4, 0, 8, 6, 1, 9,\n",
            "        8, 8, 2, 9, 9, 4, 1, 5])\n"
          ],
          "name": "stdout"
        }
      ]
    },
    {
      "cell_type": "code",
      "metadata": {
        "id": "JcGe8RUyDZ8o"
      },
      "source": [
        "class LeNet_v3(nn.Module):\n",
        "    def __init__(self): \n",
        "        super(LeNet_v3, self).__init__()\n",
        "        self.cnn_model = nn.Sequential(\n",
        "            nn.Conv2d(1, 6, 5),         # (N, 1, 28, 28) -> (N,  6, 24, 24)\n",
        "            nn.ReLU(),\n",
        "            nn.AvgPool2d(2, stride=2),  # (N, 6, 24, 24) -> (N,  6, 12, 12)\n",
        "            nn.Conv2d(6, 16, 5),        # (N, 6, 12, 12) -> (N, 16, 8, 8)  \n",
        "            nn.ReLU(),\n",
        "            nn.AvgPool2d(2, stride=2)   # (N,16, 8, 8) -> (N, 16, 4, 4)\n",
        "        )\n",
        "        self.fc_model = nn.Sequential(\n",
        "            nn.Linear(256,120),         # (N, 256) -> (N, 120)\n",
        "            nn.ReLU(),\n",
        "            nn.Linear(120,84),          # (N, 120) -> (N, 84)\n",
        "            nn.ReLU(),\n",
        "            nn.Linear(84,10)            # (N, 84)  -> (N, 10)\n",
        "        )\n",
        "        \n",
        "    def forward(self, x):\n",
        "        x = self.cnn_model(x)\n",
        "        x = x.view(x.size(0), -1)\n",
        "        x = self.fc_model(x)\n",
        "        return x"
      ],
      "execution_count": 53,
      "outputs": []
    },
    {
      "cell_type": "code",
      "metadata": {
        "id": "CIMDrgNIEai_"
      },
      "source": [
        "def evaluation_v3(dataloader):\n",
        "    total, correct = 0, 0\n",
        "    for data in dataloader:\n",
        "        inputs, labels = data\n",
        "        inputs, labels = inputs.to(device), labels.to(device)\n",
        "        outputs = net_v3(inputs)\n",
        "        _, pred = torch.max(outputs.data, 1)\n",
        "        total += labels.size(0)\n",
        "        correct += (pred == labels).sum().item()\n",
        "    return 100 * correct / total"
      ],
      "execution_count": 54,
      "outputs": []
    },
    {
      "cell_type": "code",
      "metadata": {
        "id": "9I-PLIY4EjI2"
      },
      "source": [
        "net_v3 = LeNet_v3().to(device)\n",
        "opt = optim.Adam(net_v3.parameters(), weight_decay=0.01)"
      ],
      "execution_count": 55,
      "outputs": []
    },
    {
      "cell_type": "code",
      "metadata": {
        "colab": {
          "base_uri": "https://localhost:8080/",
          "height": 571
        },
        "id": "SKogZ_asEm1O",
        "outputId": "5da16e6c-8056-4d0b-ff36-5f82d8f2cd31"
      },
      "source": [
        "%%time\n",
        "loss_arr = []\n",
        "loss_epoch_arr = []\n",
        "max_epochs = 16\n",
        "\n",
        "for epoch in range(max_epochs):\n",
        "\n",
        "    for i, data in enumerate(trainloader, 0):\n",
        "\n",
        "        inputs, labels = data\n",
        "        inputs, labels = inputs.to(device), labels.to(device)\n",
        "\n",
        "        opt.zero_grad()\n",
        "\n",
        "        outputs = net_v3(inputs)\n",
        "        loss = loss_fn(outputs, labels)\n",
        "        loss.backward()\n",
        "        opt.step()\n",
        "        loss_arr.append(loss.item())\n",
        "    loss_epoch_arr.append(loss.item())\n",
        "        \n",
        "    print('Epoch: %d/%d, Test acc: %0.2f, Train acc: %0.2f' % (epoch, max_epochs, evaluation_v3(testloader), evaluation_v3(trainloader)))\n",
        "\n",
        "plt.plot(loss_epoch_arr)\n",
        "plt.show()"
      ],
      "execution_count": 60,
      "outputs": [
        {
          "output_type": "stream",
          "text": [
            "Epoch: 0/16, Test acc: 91.91, Train acc: 91.59\n",
            "Epoch: 1/16, Test acc: 95.23, Train acc: 94.80\n",
            "Epoch: 2/16, Test acc: 95.71, Train acc: 95.45\n",
            "Epoch: 3/16, Test acc: 95.81, Train acc: 95.45\n",
            "Epoch: 4/16, Test acc: 96.63, Train acc: 96.68\n",
            "Epoch: 5/16, Test acc: 96.37, Train acc: 96.14\n",
            "Epoch: 6/16, Test acc: 97.05, Train acc: 96.66\n",
            "Epoch: 7/16, Test acc: 97.10, Train acc: 96.77\n",
            "Epoch: 8/16, Test acc: 96.89, Train acc: 96.47\n",
            "Epoch: 9/16, Test acc: 96.72, Train acc: 96.58\n",
            "Epoch: 10/16, Test acc: 96.94, Train acc: 96.64\n",
            "Epoch: 11/16, Test acc: 96.96, Train acc: 96.67\n",
            "Epoch: 12/16, Test acc: 97.13, Train acc: 96.94\n",
            "Epoch: 13/16, Test acc: 97.34, Train acc: 96.99\n",
            "Epoch: 14/16, Test acc: 96.72, Train acc: 96.43\n",
            "Epoch: 15/16, Test acc: 96.59, Train acc: 96.43\n"
          ],
          "name": "stdout"
        },
        {
          "output_type": "display_data",
          "data": {
            "image/png": "[encoded data removed]",
            "text/plain": [
              "<Figure size 432x288 with 1 Axes>"
            ]
          },
          "metadata": {
            "tags": [],
            "needs_background": "light"
          }
        },
        {
          "output_type": "stream",
          "text": [
            "CPU times: user 2min 26s, sys: 1.2 s, total: 2min 27s\n",
            "Wall time: 2min 27s\n"
          ],
          "name": "stdout"
        }
      ]
    }
  ]
}