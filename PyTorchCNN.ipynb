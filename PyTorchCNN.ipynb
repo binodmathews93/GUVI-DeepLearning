{
  "nbformat": 4,
  "nbformat_minor": 0,
  "metadata": {
    "colab": {
      "name": "PyTorchCNN.ipynb",
      "provenance": [],
      "collapsed_sections": [],
      "toc_visible": true,
      "include_colab_link": true
    },
    "kernelspec": {
      "name": "python3",
      "display_name": "Python 3"
    },
    "accelerator": "GPU",
    "widgets": {
      "application/vnd.jupyter.widget-state+json": {
        "267de7c685c84a1ca195c9dc524f6554": {
          "model_module": "@jupyter-widgets/controls",
          "model_name": "HBoxModel",
          "state": {
            "_view_name": "HBoxView",
            "_dom_classes": [],
            "_model_name": "HBoxModel",
            "_view_module": "@jupyter-widgets/controls",
            "_model_module_version": "1.5.0",
            "_view_count": null,
            "_view_module_version": "1.5.0",
            "box_style": "",
            "layout": "IPY_MODEL_a39b5abfd0c14433a9bf33a5b787d079",
            "_model_module": "@jupyter-widgets/controls",
            "children": [
              "IPY_MODEL_4632b97b732e4f48bf879bd4ab7919b9",
              "IPY_MODEL_d4b55048b34347f78997c6f5ecb515e6"
            ]
          }
        },
        "a39b5abfd0c14433a9bf33a5b787d079": {
          "model_module": "@jupyter-widgets/base",
          "model_name": "LayoutModel",
          "state": {
            "_view_name": "LayoutView",
            "grid_template_rows": null,
            "right": null,
            "justify_content": null,
            "_view_module": "@jupyter-widgets/base",
            "overflow": null,
            "_model_module_version": "1.2.0",
            "_view_count": null,
            "flex_flow": null,
            "width": null,
            "min_width": null,
            "border": null,
            "align_items": null,
            "bottom": null,
            "_model_module": "@jupyter-widgets/base",
            "top": null,
            "grid_column": null,
            "overflow_y": null,
            "overflow_x": null,
            "grid_auto_flow": null,
            "grid_area": null,
            "grid_template_columns": null,
            "flex": null,
            "_model_name": "LayoutModel",
            "justify_items": null,
            "grid_row": null,
            "max_height": null,
            "align_content": null,
            "visibility": null,
            "align_self": null,
            "height": null,
            "min_height": null,
            "padding": null,
            "grid_auto_rows": null,
            "grid_gap": null,
            "max_width": null,
            "order": null,
            "_view_module_version": "1.2.0",
            "grid_template_areas": null,
            "object_position": null,
            "object_fit": null,
            "grid_auto_columns": null,
            "margin": null,
            "display": null,
            "left": null
          }
        },
        "4632b97b732e4f48bf879bd4ab7919b9": {
          "model_module": "@jupyter-widgets/controls",
          "model_name": "FloatProgressModel",
          "state": {
            "_view_name": "ProgressView",
            "style": "IPY_MODEL_6e1d871bf66d40a58b6f94deebe5754d",
            "_dom_classes": [],
            "description": "",
            "_model_name": "FloatProgressModel",
            "bar_style": "success",
            "max": 170498071,
            "_view_module": "@jupyter-widgets/controls",
            "_model_module_version": "1.5.0",
            "value": 170498071,
            "_view_count": null,
            "_view_module_version": "1.5.0",
            "orientation": "horizontal",
            "min": 0,
            "description_tooltip": null,
            "_model_module": "@jupyter-widgets/controls",
            "layout": "IPY_MODEL_3aed7d8dc3414fd8affdecc029087eb8"
          }
        },
        "d4b55048b34347f78997c6f5ecb515e6": {
          "model_module": "@jupyter-widgets/controls",
          "model_name": "HTMLModel",
          "state": {
            "_view_name": "HTMLView",
            "style": "IPY_MODEL_45a4a74fe5c842fabb5b9f7d2c336629",
            "_dom_classes": [],
            "description": "",
            "_model_name": "HTMLModel",
            "placeholder": "​",
            "_view_module": "@jupyter-widgets/controls",
            "_model_module_version": "1.5.0",
            "value": " 170499072/? [03:52&lt;00:00, 734326.77it/s]",
            "_view_count": null,
            "_view_module_version": "1.5.0",
            "description_tooltip": null,
            "_model_module": "@jupyter-widgets/controls",
            "layout": "IPY_MODEL_82a96ce3b18f49b186d4761fab6964a3"
          }
        },
        "6e1d871bf66d40a58b6f94deebe5754d": {
          "model_module": "@jupyter-widgets/controls",
          "model_name": "ProgressStyleModel",
          "state": {
            "_view_name": "StyleView",
            "_model_name": "ProgressStyleModel",
            "description_width": "initial",
            "_view_module": "@jupyter-widgets/base",
            "_model_module_version": "1.5.0",
            "_view_count": null,
            "_view_module_version": "1.2.0",
            "bar_color": null,
            "_model_module": "@jupyter-widgets/controls"
          }
        },
        "3aed7d8dc3414fd8affdecc029087eb8": {
          "model_module": "@jupyter-widgets/base",
          "model_name": "LayoutModel",
          "state": {
            "_view_name": "LayoutView",
            "grid_template_rows": null,
            "right": null,
            "justify_content": null,
            "_view_module": "@jupyter-widgets/base",
            "overflow": null,
            "_model_module_version": "1.2.0",
            "_view_count": null,
            "flex_flow": null,
            "width": null,
            "min_width": null,
            "border": null,
            "align_items": null,
            "bottom": null,
            "_model_module": "@jupyter-widgets/base",
            "top": null,
            "grid_column": null,
            "overflow_y": null,
            "overflow_x": null,
            "grid_auto_flow": null,
            "grid_area": null,
            "grid_template_columns": null,
            "flex": null,
            "_model_name": "LayoutModel",
            "justify_items": null,
            "grid_row": null,
            "max_height": null,
            "align_content": null,
            "visibility": null,
            "align_self": null,
            "height": null,
            "min_height": null,
            "padding": null,
            "grid_auto_rows": null,
            "grid_gap": null,
            "max_width": null,
            "order": null,
            "_view_module_version": "1.2.0",
            "grid_template_areas": null,
            "object_position": null,
            "object_fit": null,
            "grid_auto_columns": null,
            "margin": null,
            "display": null,
            "left": null
          }
        },
        "45a4a74fe5c842fabb5b9f7d2c336629": {
          "model_module": "@jupyter-widgets/controls",
          "model_name": "DescriptionStyleModel",
          "state": {
            "_view_name": "StyleView",
            "_model_name": "DescriptionStyleModel",
            "description_width": "",
            "_view_module": "@jupyter-widgets/base",
            "_model_module_version": "1.5.0",
            "_view_count": null,
            "_view_module_version": "1.2.0",
            "_model_module": "@jupyter-widgets/controls"
          }
        },
        "82a96ce3b18f49b186d4761fab6964a3": {
          "model_module": "@jupyter-widgets/base",
          "model_name": "LayoutModel",
          "state": {
            "_view_name": "LayoutView",
            "grid_template_rows": null,
            "right": null,
            "justify_content": null,
            "_view_module": "@jupyter-widgets/base",
            "overflow": null,
            "_model_module_version": "1.2.0",
            "_view_count": null,
            "flex_flow": null,
            "width": null,
            "min_width": null,
            "border": null,
            "align_items": null,
            "bottom": null,
            "_model_module": "@jupyter-widgets/base",
            "top": null,
            "grid_column": null,
            "overflow_y": null,
            "overflow_x": null,
            "grid_auto_flow": null,
            "grid_area": null,
            "grid_template_columns": null,
            "flex": null,
            "_model_name": "LayoutModel",
            "justify_items": null,
            "grid_row": null,
            "max_height": null,
            "align_content": null,
            "visibility": null,
            "align_self": null,
            "height": null,
            "min_height": null,
            "padding": null,
            "grid_auto_rows": null,
            "grid_gap": null,
            "max_width": null,
            "order": null,
            "_view_module_version": "1.2.0",
            "grid_template_areas": null,
            "object_position": null,
            "object_fit": null,
            "grid_auto_columns": null,
            "margin": null,
            "display": null,
            "left": null
          }
        }
      }
    }
  },
  "cells": [
    {
      "cell_type": "markdown",
      "metadata": {
        "id": "view-in-github",
        "colab_type": "text"
      },
      "source": [
        "<a href=\"https://colab.research.google.com/github/binodmathews93/GUVI-DeepLearning/blob/main/PyTorchCNN.ipynb\" target=\"_parent\"><img src=\"https://colab.research.google.com/assets/colab-badge.svg\" alt=\"Open In Colab\"/></a>"
      ]
    },
    {
      "cell_type": "code",
      "metadata": {
        "id": "ebTDFe6qZOS6"
      },
      "source": [
        "import torch\n",
        "import matplotlib.pyplot as plt\n",
        "import numpy as np"
      ],
      "execution_count": 1,
      "outputs": []
    },
    {
      "cell_type": "markdown",
      "metadata": {
        "id": "v3RZSgGLO9iY"
      },
      "source": [
        "## Data loading"
      ]
    },
    {
      "cell_type": "code",
      "metadata": {
        "id": "fOgFtnl2ZXsx",
        "colab": {
          "base_uri": "https://localhost:8080/",
          "height": 100,
          "referenced_widgets": [
            "267de7c685c84a1ca195c9dc524f6554",
            "a39b5abfd0c14433a9bf33a5b787d079",
            "4632b97b732e4f48bf879bd4ab7919b9",
            "d4b55048b34347f78997c6f5ecb515e6",
            "6e1d871bf66d40a58b6f94deebe5754d",
            "3aed7d8dc3414fd8affdecc029087eb8",
            "45a4a74fe5c842fabb5b9f7d2c336629",
            "82a96ce3b18f49b186d4761fab6964a3"
          ]
        },
        "outputId": "09cc567d-7ef2-4d5b-b397-65e46d9a3495"
      },
      "source": [
        "import torchvision\n",
        "import torchvision.transforms as transforms\n",
        "trainset = torchvision.datasets.CIFAR10(root='./data', train=True, \n",
        "                                        download=True, \n",
        "                                        transform=transforms.ToTensor())"
      ],
      "execution_count": 2,
      "outputs": [
        {
          "output_type": "stream",
          "text": [
            "Downloading https://www.cs.toronto.edu/~kriz/cifar-10-python.tar.gz to ./data/cifar-10-python.tar.gz\n"
          ],
          "name": "stdout"
        },
        {
          "output_type": "display_data",
          "data": {
            "application/vnd.jupyter.widget-view+json": {
              "model_id": "267de7c685c84a1ca195c9dc524f6554",
              "version_minor": 0,
              "version_major": 2
            },
            "text/plain": [
              "HBox(children=(FloatProgress(value=0.0, max=170498071.0), HTML(value='')))"
            ]
          },
          "metadata": {
            "tags": []
          }
        },
        {
          "output_type": "stream",
          "text": [
            "\n",
            "Extracting ./data/cifar-10-python.tar.gz to ./data\n"
          ],
          "name": "stdout"
        }
      ]
    },
    {
      "cell_type": "code",
      "metadata": {
        "id": "tjT-1-Uba1n-"
      },
      "source": [
        "classes = ('plane', 'car', 'bird', 'cat', 'deer', 'dog', 'frog', 'horse', 'ship', 'truck')"
      ],
      "execution_count": 3,
      "outputs": []
    },
    {
      "cell_type": "code",
      "metadata": {
        "id": "dpU3_h-JaFi_"
      },
      "source": [
        "trainloader = torch.utils.data.DataLoader(trainset, batch_size=4, shuffle=True)"
      ],
      "execution_count": 4,
      "outputs": []
    },
    {
      "cell_type": "code",
      "metadata": {
        "id": "TGkggskRaXhz",
        "colab": {
          "base_uri": "https://localhost:8080/"
        },
        "outputId": "50152b06-73d6-458e-a50f-4327c94c9081"
      },
      "source": [
        "dataiter = iter(trainloader)\n",
        "images, labels = dataiter.next()\n",
        "\n",
        "print(images.shape)\n",
        "\n",
        "print(images[1].shape)\n",
        "print(labels[1].item())"
      ],
      "execution_count": 12,
      "outputs": [
        {
          "output_type": "stream",
          "text": [
            "torch.Size([4, 3, 32, 32])\n",
            "torch.Size([3, 32, 32])\n",
            "4\n"
          ],
          "name": "stdout"
        }
      ]
    },
    {
      "cell_type": "markdown",
      "metadata": {
        "id": "bQTsI03XPGId"
      },
      "source": [
        "## Visualise data"
      ]
    },
    {
      "cell_type": "code",
      "metadata": {
        "id": "RMLgzgf8PtN9",
        "colab": {
          "base_uri": "https://localhost:8080/"
        },
        "outputId": "e3f60a8b-f7b7-4e67-ff93-8c7ee0c52e94"
      },
      "source": [
        "img = images[1]\n",
        "print(type(img))"
      ],
      "execution_count": 13,
      "outputs": [
        {
          "output_type": "stream",
          "text": [
            "<class 'torch.Tensor'>\n"
          ],
          "name": "stdout"
        }
      ]
    },
    {
      "cell_type": "code",
      "metadata": {
        "id": "mXeB_gG9QIIW",
        "colab": {
          "base_uri": "https://localhost:8080/"
        },
        "outputId": "f4b5b4f5-959a-492e-8649-a8816dcc4891"
      },
      "source": [
        "npimg = img.numpy()\n",
        "print(npimg.shape)"
      ],
      "execution_count": 14,
      "outputs": [
        {
          "output_type": "stream",
          "text": [
            "(3, 32, 32)\n"
          ],
          "name": "stdout"
        }
      ]
    },
    {
      "cell_type": "code",
      "metadata": {
        "id": "T7MfJdNAQKmy",
        "colab": {
          "base_uri": "https://localhost:8080/"
        },
        "outputId": "74fe9f2b-7c82-4274-b350-d66779ad6996"
      },
      "source": [
        "npimg = np.transpose(npimg, (1, 2, 0))\n",
        "print(npimg.shape)"
      ],
      "execution_count": 15,
      "outputs": [
        {
          "output_type": "stream",
          "text": [
            "(32, 32, 3)\n"
          ],
          "name": "stdout"
        }
      ]
    },
    {
      "cell_type": "code",
      "metadata": {
        "id": "Xjh0IJNIQS4G",
        "colab": {
          "base_uri": "https://localhost:8080/",
          "height": 105
        },
        "outputId": "b4387319-fae8-4b83-afda-a798de201a14"
      },
      "source": [
        "plt.figure(figsize = (1,1))\n",
        "plt.imshow(npimg)\n",
        "plt.show()"
      ],
      "execution_count": 16,
      "outputs": [
        {
          "output_type": "display_data",
          "data": {
            "image/png": "[encoded data removed]",
            "text/plain": [
              "<Figure size 72x72 with 1 Axes>"
            ]
          },
          "metadata": {
            "tags": [],
            "needs_background": "light"
          }
        }
      ]
    },
    {
      "cell_type": "code",
      "metadata": {
        "id": "ItDj5P3xZrX3"
      },
      "source": [
        "def imshow(img):\n",
        "    npimg = img.numpy()\n",
        "    plt.imshow(np.transpose(npimg, (1, 2, 0)))\n",
        "    plt.show()"
      ],
      "execution_count": 17,
      "outputs": []
    },
    {
      "cell_type": "code",
      "metadata": {
        "id": "vX2OhQjVhFVT",
        "colab": {
          "base_uri": "https://localhost:8080/",
          "height": 155
        },
        "outputId": "27fde7dd-f518-46d2-a310-fa01fca53704"
      },
      "source": [
        "imshow(torchvision.utils.make_grid(images))\n",
        "print(' '.join(classes[labels[j]] for j in range(4)))"
      ],
      "execution_count": 18,
      "outputs": [
        {
          "output_type": "display_data",
          "data": {
            "image/png": "[encoded data removed]",
            "text/plain": [
              "<Figure size 432x288 with 1 Axes>"
            ]
          },
          "metadata": {
            "tags": [],
            "needs_background": "light"
          }
        },
        {
          "output_type": "stream",
          "text": [
            "frog deer car frog\n"
          ],
          "name": "stdout"
        }
      ]
    },
    {
      "cell_type": "markdown",
      "metadata": {
        "id": "KIP5NFfgQfNo"
      },
      "source": [
        "## Single Convolutional Layer"
      ]
    },
    {
      "cell_type": "code",
      "metadata": {
        "id": "rehaPwlqaapX"
      },
      "source": [
        "import torch.nn as nn\n",
        "\n",
        "class FirstCNN(nn.Module):\n",
        "    def __init__(self): \n",
        "        super(FirstCNN, self).__init__()\n",
        "        self.conv1 = nn.Conv2d(3, 16, 3, padding=(1,1), stride=(2,2)) # padding=(1,1), stride=(2,2))\n",
        "        \n",
        "    def forward(self, x):\n",
        "        x = self.conv1(x)\n",
        "        return x"
      ],
      "execution_count": 19,
      "outputs": []
    },
    {
      "cell_type": "code",
      "metadata": {
        "id": "Gj33mJuCg8w-"
      },
      "source": [
        "net = FirstCNN()"
      ],
      "execution_count": 20,
      "outputs": []
    },
    {
      "cell_type": "code",
      "metadata": {
        "id": "BnAWY2-qg9jR",
        "colab": {
          "base_uri": "https://localhost:8080/"
        },
        "outputId": "7cb86679-384d-4859-fea9-d21eda5a2e62"
      },
      "source": [
        "out = net(images)\n",
        "out.shape"
      ],
      "execution_count": 21,
      "outputs": [
        {
          "output_type": "execute_result",
          "data": {
            "text/plain": [
              "torch.Size([4, 16, 16, 16])"
            ]
          },
          "metadata": {
            "tags": []
          },
          "execution_count": 21
        }
      ]
    },
    {
      "cell_type": "code",
      "metadata": {
        "id": "ynP7midTjfIn",
        "colab": {
          "base_uri": "https://localhost:8080/"
        },
        "outputId": "34e09082-dd1e-4c06-ef27-ba3ba1fa3fa9"
      },
      "source": [
        "for param in net.parameters():\n",
        "    print(param.shape)"
      ],
      "execution_count": 22,
      "outputs": [
        {
          "output_type": "stream",
          "text": [
            "torch.Size([16, 3, 3, 3])\n",
            "torch.Size([16])\n"
          ],
          "name": "stdout"
        }
      ]
    },
    {
      "cell_type": "code",
      "metadata": {
        "id": "aBYgoxzEia-D",
        "colab": {
          "base_uri": "https://localhost:8080/"
        },
        "outputId": "4b292e91-87c4-4df6-ec34-93414f1e3790"
      },
      "source": [
        "out1 = out[0, 0, :, :].detach().numpy()\n",
        "print(out1.shape)"
      ],
      "execution_count": 23,
      "outputs": [
        {
          "output_type": "stream",
          "text": [
            "(16, 16)\n"
          ],
          "name": "stdout"
        }
      ]
    },
    {
      "cell_type": "code",
      "metadata": {
        "id": "FG8Mqfw5i7hP",
        "colab": {
          "base_uri": "https://localhost:8080/",
          "height": 265
        },
        "outputId": "1f644b7c-1dfe-4f11-d240-567aaf46c6e9"
      },
      "source": [
        "plt.imshow(out[0, 0, :, :].detach().numpy())\n",
        "plt.show()"
      ],
      "execution_count": 29,
      "outputs": [
        {
          "output_type": "display_data",
          "data": {
            "image/png": "[encoded data removed]",
            "text/plain": [
              "<Figure size 432x288 with 1 Axes>"
            ]
          },
          "metadata": {
            "tags": [],
            "needs_background": "light"
          }
        }
      ]
    },
    {
      "cell_type": "markdown",
      "metadata": {
        "id": "Y6nSsRqRQ3sJ"
      },
      "source": [
        "## Deep Convolutional Network"
      ]
    },
    {
      "cell_type": "code",
      "metadata": {
        "id": "YtwIDsUUjH9h"
      },
      "source": [
        "class FirstCNN_v2(nn.Module):\n",
        "    def __init__(self): \n",
        "        super(FirstCNN_v2, self).__init__()\n",
        "        self.model = nn.Sequential(\n",
        "            nn.Conv2d(3, 8, 3),   # (N, 3, 32, 32) -> (N, 8, 30, 30)\n",
        "            nn.Conv2d(8, 16, 3)   # (N, 8, 30, 30) -> (N, 16, 28, 28)\n",
        "        )\n",
        "        \n",
        "    def forward(self, x):\n",
        "        x = self.model(x)\n",
        "        return x"
      ],
      "execution_count": 30,
      "outputs": []
    },
    {
      "cell_type": "code",
      "metadata": {
        "id": "1TlJtTMoliU3",
        "colab": {
          "base_uri": "https://localhost:8080/"
        },
        "outputId": "42dca891-db06-4d5b-fa04-04179b14e16b"
      },
      "source": [
        "net = FirstCNN_v2()\n",
        "out = net(images)\n",
        "out.shape"
      ],
      "execution_count": 31,
      "outputs": [
        {
          "output_type": "execute_result",
          "data": {
            "text/plain": [
              "torch.Size([4, 16, 28, 28])"
            ]
          },
          "metadata": {
            "tags": []
          },
          "execution_count": 31
        }
      ]
    },
    {
      "cell_type": "code",
      "metadata": {
        "id": "jpPuOr1TlilH",
        "colab": {
          "base_uri": "https://localhost:8080/",
          "height": 282
        },
        "outputId": "c21611de-f64b-4ce7-e4e7-5dd1fcbb7917"
      },
      "source": [
        "plt.imshow(out[0, 0, :, :].detach().numpy())"
      ],
      "execution_count": 32,
      "outputs": [
        {
          "output_type": "execute_result",
          "data": {
            "text/plain": [
              "<matplotlib.image.AxesImage at 0x7fcf52f17bd0>"
            ]
          },
          "metadata": {
            "tags": []
          },
          "execution_count": 32
        },
        {
          "output_type": "display_data",
          "data": {
            "image/png": "[encoded data removed]",
            "text/plain": [
              "<Figure size 432x288 with 1 Axes>"
            ]
          },
          "metadata": {
            "tags": [],
            "needs_background": "light"
          }
        }
      ]
    },
    {
      "cell_type": "code",
      "metadata": {
        "id": "5GnYimnTmFyi"
      },
      "source": [
        "class FirstCNN_v3(nn.Module):\n",
        "    def __init__(self): \n",
        "        super(FirstCNN_v3, self).__init__()\n",
        "        self.model = nn.Sequential(\n",
        "            nn.Conv2d(3, 6, 5),          # (N, 3, 32, 32) -> (N, 6, 28, 28)\n",
        "            nn.AvgPool2d(2, stride=2),   # (N, 6, 28, 28) -> (N, 6, 14, 14)\n",
        "            nn.Conv2d(6, 16, 5),         # (N, 6, 14, 14) -> (N, 16, 10, 10)\n",
        "            nn.AvgPool2d(2, stride=2)    # (N, 16, 10, 10) -> (N, 16, 5, 5)\n",
        "        )\n",
        "        \n",
        "    def forward(self, x):\n",
        "        x = self.model(x)\n",
        "        return x"
      ],
      "execution_count": 33,
      "outputs": []
    },
    {
      "cell_type": "code",
      "metadata": {
        "id": "ldq1anrdmwox",
        "colab": {
          "base_uri": "https://localhost:8080/"
        },
        "outputId": "fc25b3e1-ce43-4dfe-e311-e4dc6004b196"
      },
      "source": [
        "net = FirstCNN_v3()\n",
        "out = net(images)\n",
        "out.shape"
      ],
      "execution_count": 34,
      "outputs": [
        {
          "output_type": "execute_result",
          "data": {
            "text/plain": [
              "torch.Size([4, 16, 5, 5])"
            ]
          },
          "metadata": {
            "tags": []
          },
          "execution_count": 34
        }
      ]
    },
    {
      "cell_type": "code",
      "metadata": {
        "id": "tOnUd7TyVunB",
        "colab": {
          "base_uri": "https://localhost:8080/",
          "height": 282
        },
        "outputId": "7c56ae3d-7455-431f-da34-c7933f8cecae"
      },
      "source": [
        "plt.imshow(out[0, 0, :, :].detach().numpy())"
      ],
      "execution_count": 35,
      "outputs": [
        {
          "output_type": "execute_result",
          "data": {
            "text/plain": [
              "<matplotlib.image.AxesImage at 0x7fcf52e9ce10>"
            ]
          },
          "metadata": {
            "tags": []
          },
          "execution_count": 35
        },
        {
          "output_type": "display_data",
          "data": {
            "image/png": "[encoded data removed]",
            "text/plain": [
              "<Figure size 432x288 with 1 Axes>"
            ]
          },
          "metadata": {
            "tags": [],
            "needs_background": "light"
          }
        }
      ]
    },
    {
      "cell_type": "markdown",
      "metadata": {
        "id": "vymNQCrDQ7dM"
      },
      "source": [
        "## LeNet"
      ]
    },
    {
      "cell_type": "code",
      "metadata": {
        "id": "npS8lRGT15bx"
      },
      "source": [
        "class LeNet(nn.Module):\n",
        "    def __init__(self): \n",
        "        super(LeNet, self).__init__()\n",
        "        self.cnn_model = nn.Sequential(\n",
        "            nn.Conv2d(3, 6, 5),         # (N, 3, 32, 32) -> (N,  6, 28, 28)\n",
        "            nn.Tanh(),\n",
        "            nn.AvgPool2d(2, stride=2),  # (N, 6, 28, 28) -> (N,  6, 14, 14)\n",
        "            nn.Conv2d(6, 16, 5),        # (N, 6, 14, 14) -> (N, 16, 10, 10)  \n",
        "            nn.Tanh(),\n",
        "            nn.AvgPool2d(2, stride=2)   # (N,16, 10, 10) -> (N, 16, 5, 5)\n",
        "        )\n",
        "        self.fc_model = nn.Sequential(\n",
        "            nn.Linear(400,120),         # (N, 400) -> (N, 120)\n",
        "            nn.Tanh(),\n",
        "            nn.Linear(120,84),          # (N, 120) -> (N, 84)\n",
        "            nn.Tanh(),\n",
        "            nn.Linear(84,10)            # (N, 84)  -> (N, 10)\n",
        "        )\n",
        "        \n",
        "    def forward(self, x):\n",
        "        print(x.shape)\n",
        "        x = self.cnn_model(x)\n",
        "        print(x.shape)\n",
        "        x = x.view(x.size(0), -1)\n",
        "        print(x.shape)\n",
        "        x = self.fc_model(x)\n",
        "        print(x.shape)\n",
        "        return x"
      ],
      "execution_count": 36,
      "outputs": []
    },
    {
      "cell_type": "code",
      "metadata": {
        "id": "hruUII0sRIO4",
        "colab": {
          "base_uri": "https://localhost:8080/"
        },
        "outputId": "775953f9-c652-48bd-98d4-09ffd75a1139"
      },
      "source": [
        "net = LeNet()\n",
        "out = net(images)"
      ],
      "execution_count": 37,
      "outputs": [
        {
          "output_type": "stream",
          "text": [
            "torch.Size([4, 3, 32, 32])\n",
            "torch.Size([4, 16, 5, 5])\n",
            "torch.Size([4, 400])\n",
            "torch.Size([4, 10])\n"
          ],
          "name": "stdout"
        }
      ]
    },
    {
      "cell_type": "code",
      "metadata": {
        "id": "2E66qlEzRapT",
        "colab": {
          "base_uri": "https://localhost:8080/"
        },
        "outputId": "1aadc582-286b-4df3-b916-8bc1dbd9069a"
      },
      "source": [
        "print(out)"
      ],
      "execution_count": 38,
      "outputs": [
        {
          "output_type": "stream",
          "text": [
            "tensor([[ 0.0357,  0.0699, -0.0716,  0.0038,  0.0249, -0.0847, -0.0267,  0.0595,\n",
            "          0.0334,  0.0908],\n",
            "        [ 0.0387,  0.0663, -0.0691,  0.0064,  0.0215, -0.0806, -0.0203,  0.0657,\n",
            "          0.0266,  0.1041],\n",
            "        [ 0.0417,  0.0634, -0.0628, -0.0090,  0.0252, -0.0761, -0.0175,  0.0724,\n",
            "          0.0204,  0.0942],\n",
            "        [ 0.0268,  0.0640, -0.0645, -0.0116,  0.0206, -0.0944, -0.0136,  0.0583,\n",
            "          0.0260,  0.0974]], grad_fn=<AddmmBackward>)\n"
          ],
          "name": "stdout"
        }
      ]
    },
    {
      "cell_type": "code",
      "metadata": {
        "id": "ZiYvD0l7Rhma",
        "colab": {
          "base_uri": "https://localhost:8080/"
        },
        "outputId": "45975f5f-dbc5-4cf6-c28f-989d2677b55a"
      },
      "source": [
        "max_values, pred_class = torch.max(out.data, 1)\n",
        "print(pred_class)"
      ],
      "execution_count": 39,
      "outputs": [
        {
          "output_type": "stream",
          "text": [
            "tensor([9, 9, 9, 9])\n"
          ],
          "name": "stdout"
        }
      ]
    },
    {
      "cell_type": "markdown",
      "metadata": {
        "id": "lOQGdybZRQqk"
      },
      "source": [
        "## Training LeNet"
      ]
    },
    {
      "cell_type": "code",
      "metadata": {
        "id": "ylTZodUuV1eb"
      },
      "source": [
        "class LeNet(nn.Module):\n",
        "    def __init__(self): \n",
        "        super(LeNet, self).__init__()\n",
        "        self.cnn_model = nn.Sequential(\n",
        "            nn.Conv2d(3, 6, 5),         # (N, 3, 32, 32) -> (N,  6, 28, 28)\n",
        "            nn.Tanh(),\n",
        "            nn.AvgPool2d(2, stride=2),  # (N, 6, 28, 28) -> (N,  6, 14, 14)\n",
        "            nn.Conv2d(6, 16, 5),        # (N, 6, 14, 14) -> (N, 16, 10, 10)  \n",
        "            nn.Tanh(),\n",
        "            nn.AvgPool2d(2, stride=2)   # (N,16, 10, 10) -> (N, 16, 5, 5)\n",
        "        )\n",
        "        self.fc_model = nn.Sequential(\n",
        "            nn.Linear(400,120),         # (N, 400) -> (N, 120)\n",
        "            nn.Tanh(),\n",
        "            nn.Linear(120,84),          # (N, 120) -> (N, 84)\n",
        "            nn.Tanh(),\n",
        "            nn.Linear(84,10)            # (N, 84)  -> (N, 10)\n",
        "        )\n",
        "        \n",
        "    def forward(self, x):\n",
        "        x = self.cnn_model(x)\n",
        "        x = x.view(x.size(0), -1)\n",
        "        x = self.fc_model(x)\n",
        "        return x"
      ],
      "execution_count": 40,
      "outputs": []
    },
    {
      "cell_type": "code",
      "metadata": {
        "id": "GOWc4kya8UDC",
        "colab": {
          "base_uri": "https://localhost:8080/"
        },
        "outputId": "fbcc9667-8fb5-44b8-f42c-210fec321090"
      },
      "source": [
        "batch_size = 128\n",
        "trainset = torchvision.datasets.CIFAR10(root='./data', train=True, download=True, transform=transforms.ToTensor())\n",
        "trainloader = torch.utils.data.DataLoader(trainset, batch_size=batch_size, shuffle=True)\n",
        "testset = torchvision.datasets.CIFAR10(root='./data', train=False, download=True, transform=transforms.ToTensor())\n",
        "testloader = torch.utils.data.DataLoader(testset, batch_size=batch_size, shuffle=False)"
      ],
      "execution_count": 41,
      "outputs": [
        {
          "output_type": "stream",
          "text": [
            "Files already downloaded and verified\n",
            "Files already downloaded and verified\n"
          ],
          "name": "stdout"
        }
      ]
    },
    {
      "cell_type": "code",
      "metadata": {
        "id": "x9ehrnaHHZoj"
      },
      "source": [
        "def evaluation(dataloader):\n",
        "    total, correct = 0, 0\n",
        "    for data in dataloader:\n",
        "        inputs, labels = data\n",
        "        outputs = net(inputs)\n",
        "        _, pred = torch.max(outputs.data, 1)\n",
        "        total += labels.size(0)\n",
        "        correct += (pred == labels).sum().item()\n",
        "    return 100 * correct / total"
      ],
      "execution_count": 42,
      "outputs": []
    },
    {
      "cell_type": "code",
      "metadata": {
        "id": "3pYTvSvD2TwM"
      },
      "source": [
        "net = LeNet()"
      ],
      "execution_count": 43,
      "outputs": []
    },
    {
      "cell_type": "code",
      "metadata": {
        "id": "2T6Wzz7J2xq3"
      },
      "source": [
        "import torch.optim as optim\n",
        "\n",
        "loss_fn = nn.CrossEntropyLoss()\n",
        "opt = optim.Adam(net.parameters())"
      ],
      "execution_count": 44,
      "outputs": []
    },
    {
      "cell_type": "code",
      "metadata": {
        "id": "a0LnxsXi6Cgt",
        "colab": {
          "base_uri": "https://localhost:8080/",
          "height": 571
        },
        "outputId": "44e6a2dd-a176-4205-ff09-daf30290890e"
      },
      "source": [
        "%%time\n",
        "loss_arr = []\n",
        "loss_epoch_arr = []\n",
        "max_epochs = 16\n",
        "\n",
        "for epoch in range(max_epochs):\n",
        "\n",
        "    for i, data in enumerate(trainloader, 0):\n",
        "\n",
        "        inputs, labels = data\n",
        "\n",
        "        opt.zero_grad()\n",
        "\n",
        "        outputs = net(inputs)\n",
        "        loss = loss_fn(outputs, labels)\n",
        "        loss.backward()\n",
        "        opt.step()\n",
        "        \n",
        "        loss_arr.append(loss.item())\n",
        "        \n",
        "    loss_epoch_arr.append(loss.item())\n",
        "        \n",
        "    print('Epoch: %d/%d, Test acc: %0.2f, Train acc: %0.2f' % (epoch, max_epochs, evaluation(testloader), evaluation(trainloader)))\n",
        "    \n",
        "    \n",
        "plt.plot(loss_epoch_arr)\n",
        "plt.show()"
      ],
      "execution_count": 45,
      "outputs": [
        {
          "output_type": "stream",
          "text": [
            "Epoch: 0/16, Test acc: 38.75, Train acc: 38.25\n",
            "Epoch: 1/16, Test acc: 43.13, Train acc: 43.43\n",
            "Epoch: 2/16, Test acc: 46.64, Train acc: 47.31\n",
            "Epoch: 3/16, Test acc: 48.32, Train acc: 49.73\n",
            "Epoch: 4/16, Test acc: 51.34, Train acc: 53.39\n",
            "Epoch: 5/16, Test acc: 52.57, Train acc: 55.00\n",
            "Epoch: 6/16, Test acc: 52.60, Train acc: 55.90\n",
            "Epoch: 7/16, Test acc: 53.56, Train acc: 57.84\n",
            "Epoch: 8/16, Test acc: 53.70, Train acc: 58.75\n",
            "Epoch: 9/16, Test acc: 54.25, Train acc: 59.80\n",
            "Epoch: 10/16, Test acc: 54.48, Train acc: 60.96\n",
            "Epoch: 11/16, Test acc: 54.40, Train acc: 62.18\n",
            "Epoch: 12/16, Test acc: 54.85, Train acc: 62.60\n",
            "Epoch: 13/16, Test acc: 55.29, Train acc: 64.16\n",
            "Epoch: 14/16, Test acc: 54.04, Train acc: 63.86\n",
            "Epoch: 15/16, Test acc: 55.05, Train acc: 64.93\n"
          ],
          "name": "stdout"
        },
        {
          "output_type": "display_data",
          "data": {
            "image/png": "[encoded data removed]",
            "text/plain": [
              "<Figure size 432x288 with 1 Axes>"
            ]
          },
          "metadata": {
            "tags": [],
            "needs_background": "light"
          }
        },
        {
          "output_type": "stream",
          "text": [
            "CPU times: user 9min 8s, sys: 5.43 s, total: 9min 13s\n",
            "Wall time: 9min 11s\n"
          ],
          "name": "stdout"
        }
      ]
    },
    {
      "cell_type": "markdown",
      "metadata": {
        "id": "ECHeB_BUTHl5"
      },
      "source": [
        "## Move to GPU"
      ]
    },
    {
      "cell_type": "code",
      "metadata": {
        "id": "Mj0-Y6zJTJ5z",
        "colab": {
          "base_uri": "https://localhost:8080/"
        },
        "outputId": "264040f1-42e3-442e-db5e-c53113a4b30d"
      },
      "source": [
        "device = torch.device(\"cuda:0\" if torch.cuda.is_available() else \"cpu\")\n",
        "print(device)"
      ],
      "execution_count": 46,
      "outputs": [
        {
          "output_type": "stream",
          "text": [
            "cuda:0\n"
          ],
          "name": "stdout"
        }
      ]
    },
    {
      "cell_type": "code",
      "metadata": {
        "id": "n4fHbz2fTNpR"
      },
      "source": [
        "def evaluation(dataloader):\n",
        "    total, correct = 0, 0\n",
        "    for data in dataloader:\n",
        "        inputs, labels = data\n",
        "        inputs, labels = inputs.to(device), labels.to(device)\n",
        "        outputs = net(inputs)\n",
        "        _, pred = torch.max(outputs.data, 1)\n",
        "        total += labels.size(0)\n",
        "        correct += (pred == labels).sum().item()\n",
        "    return 100 * correct / total"
      ],
      "execution_count": 47,
      "outputs": []
    },
    {
      "cell_type": "code",
      "metadata": {
        "id": "mnxecsfVTQH-"
      },
      "source": [
        "net = LeNet().to(device)\n",
        "loss_fn = nn.CrossEntropyLoss()\n",
        "opt = optim.Adam(net.parameters())"
      ],
      "execution_count": 48,
      "outputs": []
    },
    {
      "cell_type": "code",
      "metadata": {
        "id": "i9t3Js-XTWkf",
        "colab": {
          "base_uri": "https://localhost:8080/"
        },
        "outputId": "45bd0ba6-24a1-458f-d4e2-d6a919cc400b"
      },
      "source": [
        "%%time\n",
        "max_epochs = 16\n",
        "\n",
        "for epoch in range(max_epochs):\n",
        "\n",
        "    for i, data in enumerate(trainloader, 0):\n",
        "\n",
        "        inputs, labels = data\n",
        "        inputs, labels = inputs.to(device), labels.to(device)\n",
        "\n",
        "        opt.zero_grad()\n",
        "\n",
        "        outputs = net(inputs)\n",
        "        loss = loss_fn(outputs, labels)\n",
        "        loss.backward()\n",
        "        opt.step()\n",
        "        \n",
        "    print('Epoch: %d/%d' % (epoch, max_epochs))"
      ],
      "execution_count": 49,
      "outputs": [
        {
          "output_type": "stream",
          "text": [
            "Epoch: 0/16\n",
            "Epoch: 1/16\n",
            "Epoch: 2/16\n",
            "Epoch: 3/16\n",
            "Epoch: 4/16\n",
            "Epoch: 5/16\n",
            "Epoch: 6/16\n",
            "Epoch: 7/16\n",
            "Epoch: 8/16\n",
            "Epoch: 9/16\n",
            "Epoch: 10/16\n",
            "Epoch: 11/16\n",
            "Epoch: 12/16\n",
            "Epoch: 13/16\n",
            "Epoch: 14/16\n",
            "Epoch: 15/16\n",
            "CPU times: user 2min 9s, sys: 1.59 s, total: 2min 11s\n",
            "Wall time: 2min 11s\n"
          ],
          "name": "stdout"
        }
      ]
    },
    {
      "cell_type": "code",
      "metadata": {
        "id": "1mao_iiQZVlE",
        "colab": {
          "base_uri": "https://localhost:8080/"
        },
        "outputId": "b6b2b7e8-5cb9-42ab-ec0e-a7a3f482c93b"
      },
      "source": [
        "print('Test acc: %0.2f, Train acc: %0.2f' % (evaluation(testloader), evaluation(trainloader)))"
      ],
      "execution_count": 50,
      "outputs": [
        {
          "output_type": "stream",
          "text": [
            "Test acc: 55.19, Train acc: 65.65\n"
          ],
          "name": "stdout"
        }
      ]
    },
    {
      "cell_type": "markdown",
      "metadata": {
        "id": "Fq5T-KsjTEUQ"
      },
      "source": [
        "## Basic Visualisation"
      ]
    },
    {
      "cell_type": "code",
      "metadata": {
        "id": "LWfeXhrzSFSc",
        "colab": {
          "base_uri": "https://localhost:8080/",
          "height": 138
        },
        "outputId": "73a19ad9-44af-44da-8a5f-b3c4f94470b0"
      },
      "source": [
        "imshow(torchvision.utils.make_grid(images))"
      ],
      "execution_count": 51,
      "outputs": [
        {
          "output_type": "display_data",
          "data": {
            "image/png": "[encoded data removed]",
            "text/plain": [
              "<Figure size 432x288 with 1 Axes>"
            ]
          },
          "metadata": {
            "tags": [],
            "needs_background": "light"
          }
        }
      ]
    },
    {
      "cell_type": "code",
      "metadata": {
        "id": "DiorUKc-LnWx"
      },
      "source": [
        "net = net.to('cpu')"
      ],
      "execution_count": 52,
      "outputs": []
    },
    {
      "cell_type": "code",
      "metadata": {
        "id": "luNsBRCAKQC_",
        "colab": {
          "base_uri": "https://localhost:8080/"
        },
        "outputId": "091ca58b-dc3a-45e4-9064-95c17bae1368"
      },
      "source": [
        "out = net(images)\n",
        "print(out.shape)"
      ],
      "execution_count": 53,
      "outputs": [
        {
          "output_type": "stream",
          "text": [
            "torch.Size([4, 10])\n"
          ],
          "name": "stdout"
        }
      ]
    },
    {
      "cell_type": "code",
      "metadata": {
        "id": "-38nfaIUKSeF",
        "colab": {
          "base_uri": "https://localhost:8080/"
        },
        "outputId": "d3324e92-d279-4a8d-a436-e86071259fd1"
      },
      "source": [
        "out = net.cnn_model[0](images)\n",
        "out.shape"
      ],
      "execution_count": 54,
      "outputs": [
        {
          "output_type": "execute_result",
          "data": {
            "text/plain": [
              "torch.Size([4, 6, 28, 28])"
            ]
          },
          "metadata": {
            "tags": []
          },
          "execution_count": 54
        }
      ]
    },
    {
      "cell_type": "code",
      "metadata": {
        "id": "Gqj4_qG1KYcO",
        "colab": {
          "base_uri": "https://localhost:8080/",
          "height": 159
        },
        "outputId": "c7c4ece9-4803-40a8-bbb4-1352b7884440"
      },
      "source": [
        "image_id = 3\n",
        "plt.figure(figsize = (2,2))\n",
        "imshow(images[image_id,])"
      ],
      "execution_count": 55,
      "outputs": [
        {
          "output_type": "display_data",
          "data": {
            "image/png": "[encoded data removed]",
            "text/plain": [
              "<Figure size 144x144 with 1 Axes>"
            ]
          },
          "metadata": {
            "tags": [],
            "needs_background": "light"
          }
        }
      ]
    },
    {
      "cell_type": "code",
      "metadata": {
        "id": "19iXHHLitP2D",
        "colab": {
          "base_uri": "https://localhost:8080/",
          "height": 430
        },
        "outputId": "da7a7dc1-d797-498b-8c19-fd24981b0f4a"
      },
      "source": [
        "plt.figure(figsize = (6,6))\n",
        "plt.subplot(321)\n",
        "for i in range(6):\n",
        "    ax1 = plt.subplot(3, 2, i+1)\n",
        "    plt.imshow(out[image_id, i, :, :].detach().numpy(), cmap=\"binary\")\n",
        "plt.show()"
      ],
      "execution_count": 56,
      "outputs": [
        {
          "output_type": "stream",
          "text": [
            "/usr/local/lib/python3.7/dist-packages/ipykernel_launcher.py:4: MatplotlibDeprecationWarning: Adding an axes using the same arguments as a previous axes currently reuses the earlier instance.  In a future version, a new instance will always be created and returned.  Meanwhile, this warning can be suppressed, and the future behavior ensured, by passing a unique label to each axes instance.\n",
            "  after removing the cwd from sys.path.\n"
          ],
          "name": "stderr"
        },
        {
          "output_type": "display_data",
          "data": {
            "image/png": "[encoded data removed]",
            "text/plain": [
              "<Figure size 432x432 with 6 Axes>"
            ]
          },
          "metadata": {
            "tags": [],
            "needs_background": "light"
          }
        }
      ]
    },
    {
      "cell_type": "markdown",
      "metadata": {
        "id": "eARYa3OZexaC"
      },
      "source": [
        "## Using ReLU instead of Tanh"
      ]
    },
    {
      "cell_type": "code",
      "metadata": {
        "id": "EnMyNqhVwrgr"
      },
      "source": [
        "class LeNet_v2(nn.Module):\n",
        "    def __init__(self): \n",
        "        super(LeNet_v2, self).__init__()\n",
        "        self.cnn_model = nn.Sequential(\n",
        "            nn.Conv2d(3, 6, 5),         # (N, 3, 32, 32) -> (N,  6, 28, 28)\n",
        "            nn.ReLU(),\n",
        "            nn.AvgPool2d(2, stride=2),  # (N, 6, 28, 28) -> (N,  6, 14, 14)\n",
        "            nn.Conv2d(6, 16, 5),        # (N, 6, 14, 14) -> (N, 16, 10, 10)  \n",
        "            nn.ReLU(),\n",
        "            nn.AvgPool2d(2, stride=2)   # (N,16, 10, 10) -> (N, 16, 5, 5)\n",
        "        )\n",
        "        self.fc_model = nn.Sequential(\n",
        "            nn.Linear(400,120),         # (N, 400) -> (N, 120)\n",
        "            nn.ReLU(),\n",
        "            nn.Linear(120,84),          # (N, 120) -> (N, 84)\n",
        "            nn.ReLU(),\n",
        "            nn.Linear(84,10)            # (N, 84)  -> (N, 10)\n",
        "        )\n",
        "        \n",
        "    def forward(self, x):\n",
        "        x = self.cnn_model(x)\n",
        "        x = x.view(x.size(0), -1)\n",
        "        x = self.fc_model(x)\n",
        "        return x"
      ],
      "execution_count": 57,
      "outputs": []
    },
    {
      "cell_type": "code",
      "metadata": {
        "id": "yzKlzkW95pk4"
      },
      "source": [
        "def evaluation_v2(dataloader):\n",
        "    total, correct = 0, 0\n",
        "    for data in dataloader:\n",
        "        inputs, labels = data\n",
        "        inputs, labels = inputs.to(device), labels.to(device)\n",
        "        outputs = net_v2(inputs)\n",
        "        _, pred = torch.max(outputs.data, 1)\n",
        "        total += labels.size(0)\n",
        "        correct += (pred == labels).sum().item()\n",
        "    return 100 * correct / total"
      ],
      "execution_count": 65,
      "outputs": []
    },
    {
      "cell_type": "code",
      "metadata": {
        "id": "MRXKQd773C-T"
      },
      "source": [
        "net_v2 = LeNet_v2().to(device)\n",
        "opt = optim.Adam(net_v2.parameters(), weight_decay=0.01)"
      ],
      "execution_count": 79,
      "outputs": []
    },
    {
      "cell_type": "code",
      "metadata": {
        "colab": {
          "base_uri": "https://localhost:8080/",
          "height": 571
        },
        "id": "Vy0pqUnv3hlg",
        "outputId": "7ebc59b1-edf9-4518-b8a4-1854572ace33"
      },
      "source": [
        "%%time\n",
        "loss_arr = []\n",
        "loss_epoch_arr = []\n",
        "max_epochs = 16\n",
        "\n",
        "for epoch in range(max_epochs):\n",
        "\n",
        "    for i, data in enumerate(trainloader, 0):\n",
        "\n",
        "        inputs, labels = data\n",
        "        inputs, labels = inputs.to(device), labels.to(device)\n",
        "\n",
        "        opt.zero_grad()\n",
        "\n",
        "        outputs = net_v2(inputs)\n",
        "        loss = loss_fn(outputs, labels)\n",
        "        loss.backward()\n",
        "        opt.step()\n",
        "        loss_arr.append(loss.item())\n",
        "    loss_epoch_arr.append(loss.item())\n",
        "        \n",
        "    print('Epoch: %d/%d, Test acc: %0.2f, Train acc: %0.2f' % (epoch, max_epochs, evaluation_v2(testloader), evaluation_v2(trainloader)))\n",
        "\n",
        "plt.plot(loss_epoch_arr)\n",
        "plt.show()"
      ],
      "execution_count": 80,
      "outputs": [
        {
          "output_type": "stream",
          "text": [
            "Epoch: 0/16, Test acc: 24.65, Train acc: 23.95\n",
            "Epoch: 1/16, Test acc: 30.16, Train acc: 29.88\n",
            "Epoch: 2/16, Test acc: 32.47, Train acc: 32.37\n",
            "Epoch: 3/16, Test acc: 35.49, Train acc: 34.93\n",
            "Epoch: 4/16, Test acc: 37.92, Train acc: 37.68\n",
            "Epoch: 5/16, Test acc: 37.81, Train acc: 37.36\n",
            "Epoch: 6/16, Test acc: 38.30, Train acc: 38.22\n",
            "Epoch: 7/16, Test acc: 39.70, Train acc: 39.45\n",
            "Epoch: 8/16, Test acc: 42.44, Train acc: 42.67\n",
            "Epoch: 9/16, Test acc: 44.65, Train acc: 44.63\n",
            "Epoch: 10/16, Test acc: 45.58, Train acc: 45.28\n",
            "Epoch: 11/16, Test acc: 46.17, Train acc: 46.16\n",
            "Epoch: 12/16, Test acc: 46.29, Train acc: 45.96\n",
            "Epoch: 13/16, Test acc: 48.11, Train acc: 48.30\n",
            "Epoch: 14/16, Test acc: 47.47, Train acc: 47.90\n",
            "Epoch: 15/16, Test acc: 47.60, Train acc: 48.11\n"
          ],
          "name": "stdout"
        },
        {
          "output_type": "display_data",
          "data": {
            "image/png": "[encoded data removed]",
            "text/plain": [
              "<Figure size 432x288 with 1 Axes>"
            ]
          },
          "metadata": {
            "tags": [],
            "needs_background": "light"
          }
        },
        {
          "output_type": "stream",
          "text": [
            "CPU times: user 4min 45s, sys: 12.4 s, total: 4min 57s\n",
            "Wall time: 4min 57s\n"
          ],
          "name": "stdout"
        }
      ]
    }
  ]
}